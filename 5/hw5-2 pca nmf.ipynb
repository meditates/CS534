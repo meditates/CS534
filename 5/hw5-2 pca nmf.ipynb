{
 "cells": [
  {
   "cell_type": "markdown",
   "metadata": {},
   "source": [
    "# problem 2 a"
   ]
  },
  {
   "cell_type": "code",
   "execution_count": 1,
   "metadata": {},
   "outputs": [
    {
     "name": "stdout",
     "output_type": "stream",
     "text": [
      "(1302, 18)\n",
      "Index(['college name', 'apps received', 'apps accepted', 'new stud enrolled',\n",
      "       '% new stud from top 10%', '% new stud from top 25%',\n",
      "       'num FT undergrad', 'num PT undergrad', 'in-state tuition',\n",
      "       'out-of-state tuition', 'room', 'board', 'add fees', 'est book costs',\n",
      "       'est personal costs', '% fac with PHD', 'stud:fac ratio',\n",
      "       'graduation rate'],\n",
      "      dtype='object')\n",
      "(471, 18)\n",
      "(471, 17)\n"
     ]
    }
   ],
   "source": [
    "import numpy as np\n",
    "from numpy import *\n",
    "from sklearn.decomposition import PCA,NMF\n",
    "\n",
    "import pandas as pd\n",
    "from sklearn import preprocessing\n",
    "from sklearn import model_selection\n",
    "import math\n",
    "import matplotlib.pyplot as plt\n",
    "from matplotlib import colors\n",
    "from sklearn import metrics\n",
    "%matplotlib inline\n",
    "\n",
    "data_txt=[]\n",
    "f = open('colleges.txt')\n",
    "for i in range(1303):\n",
    "    line = f.readline()\n",
    "    line = line.strip()\n",
    "    listFromLine = line.split('\\t')\n",
    "    m=[]\n",
    "    j=0\n",
    "    for k in listFromLine:\n",
    "        if i==0:\n",
    "            m.append(k)\n",
    "        elif j==0:\n",
    "            m.append(k)\n",
    "            j+=1\n",
    "        else:\n",
    "            if k=='':\n",
    "                k=np.NAN\n",
    "            m.append(float(k))\n",
    "            \n",
    "    data_txt.append(m)\n",
    "df = pd.DataFrame(data=data_txt[1:],columns=data_txt[0])\n",
    "print(df.shape)\n",
    "print(df.columns)\n",
    "df=df.dropna(axis=0,how='any')\n",
    "print(df.shape)\n",
    "college=df[['college name']]\n",
    "df.drop(['college name'], axis=1, inplace=True)\n",
    "data=df\n",
    "print(data.shape)\n",
    "data_n = preprocessing.normalize(data)"
   ]
  },
  {
   "cell_type": "markdown",
   "metadata": {},
   "source": [
    "# problem 2 b"
   ]
  },
  {
   "cell_type": "code",
   "execution_count": 12,
   "metadata": {
    "scrolled": true
   },
   "outputs": [
    {
     "name": "stdout",
     "output_type": "stream",
     "text": [
      "the number of component is 5\n",
      "[ 0.78569491  0.07833391  0.05024888  0.02432843  0.02065389]\n",
      "[ 7.79985719  2.46283083  1.9725267   1.37251393  1.26462175]\n",
      "[[  3.79727828e-01   2.54619260e-01   1.12652005e-01  -2.02588186e-04\n",
      "    2.25002725e-04   5.83190681e-01   1.32116971e-01  -5.86907263e-01\n",
      "   -2.69000893e-01   8.91916973e-03  -5.26965190e-03   2.75574609e-02\n",
      "    7.04590879e-03   5.45761652e-02   1.45946206e-03   5.41263943e-04\n",
      "   -5.68136312e-05]\n",
      " [ -4.01035089e-01  -1.81624793e-01  -8.35780168e-03  -1.77739550e-04\n",
      "    4.41009791e-03  -2.45335499e-02   1.55013154e-01  -4.81956591e-01\n",
      "    4.29015161e-01   3.16090298e-01   3.07525230e-01   1.07722851e-01\n",
      "    1.13116401e-01   3.82127038e-01   1.24834200e-02   4.09500171e-03\n",
      "    6.98337621e-03]\n",
      " [ -6.55161792e-01  -2.24457333e-01   4.22947359e-02  -1.09874978e-03\n",
      "   -2.64352060e-03   4.28481173e-01   2.94552157e-01   1.54902979e-01\n",
      "   -3.95514658e-01  -2.12703585e-01  -7.83551804e-02  -1.21014254e-01\n",
      "   -2.35823563e-02   3.44357055e-02  -3.79730696e-03  -7.27751084e-04\n",
      "   -4.16318610e-03]]\n",
      "0 0\n",
      "0 5\n",
      "1 8\n",
      "1 13\n",
      "2 5\n"
     ]
    }
   ],
   "source": [
    "data_n=np.array(data_n)\n",
    "\n",
    "for i in range(1,10):\n",
    "    pca = PCA(n_components=i,random_state=9)\n",
    "    Y=pca.fit_transform(data_n)\n",
    "    k=sum(pca.explained_variance_ratio_)\n",
    "    if k>0.95:\n",
    "        print('the number of component is',i)\n",
    "        print(pca.explained_variance_ratio_)\n",
    "        print(pca.singular_values_)\n",
    "        print(pca.components_[0:3,:])\n",
    "         \n",
    "        break\n",
    "for i in range(3):\n",
    "    for j in range(17):\n",
    "        if pca.components_[i][j]>0.35:\n",
    "            print(i,j)\n",
    "        \n",
    "    "
   ]
  },
  {
   "cell_type": "code",
   "execution_count": 24,
   "metadata": {},
   "outputs": [
    {
     "name": "stdout",
     "output_type": "stream",
     "text": [
      "important features by PCA are\n",
      "apps received\n",
      "num FT undergrad\n",
      "out-of-state tuition\n",
      "est personal costs\n"
     ]
    }
   ],
   "source": [
    "print('important features by PCA are')\n",
    "for i in [0,5,8,13]:\n",
    "    print(df.columns[i])"
   ]
  },
  {
   "cell_type": "markdown",
   "metadata": {},
   "source": [
    "# problem 2 c"
   ]
  },
  {
   "cell_type": "code",
   "execution_count": 63,
   "metadata": {},
   "outputs": [
    {
     "name": "stdout",
     "output_type": "stream",
     "text": [
      "the number of component is 3\n",
      "[ 0.56136974  0.36452432  0.03496909]\n",
      "[ 161098.37646782  129816.50756696   40207.66348017]\n"
     ]
    }
   ],
   "source": [
    "# if no normalization\n",
    "data=np.array(data)\n",
    "for i in range(1,10):\n",
    "    pca1 = PCA(n_components=i,random_state=9)\n",
    "    Y1=pca1.fit_transform(data)\n",
    "    k=sum(pca1.explained_variance_ratio_)\n",
    "    if k>0.95:\n",
    "        print('the number of component is',i)\n",
    "        print(pca1.explained_variance_ratio_)\n",
    "        print(pca1.singular_values_)\n",
    "        break"
   ]
  },
  {
   "cell_type": "markdown",
   "metadata": {},
   "source": [
    "# problem 2 d"
   ]
  },
  {
   "cell_type": "code",
   "execution_count": 27,
   "metadata": {
    "scrolled": true
   },
   "outputs": [
    {
     "name": "stdout",
     "output_type": "stream",
     "text": [
      "NMF squared error is 8.3490597287\n",
      "[[  2.18693450e-01   1.37969976e-01   2.65206793e-02   7.80270072e-03\n",
      "    1.47182630e-02   0.00000000e+00   0.00000000e+00   3.50497639e+00\n",
      "    3.21553316e+00   5.73935943e-01   5.72465621e-01   5.40343474e-02\n",
      "    1.35799630e-01   2.57540251e-01   1.70678498e-02   2.91479646e-03\n",
      "    1.79578140e-02]\n",
      " [  2.11664361e+00   1.34434058e+00   5.01921832e-01   3.60111565e-03\n",
      "    4.44578924e-03   2.49256040e+00   3.85029369e-01   0.00000000e+00\n",
      "    1.87560372e-01   2.54281677e-02   0.00000000e+00   2.96483788e-02\n",
      "    0.00000000e+00   0.00000000e+00   2.37860227e-03   0.00000000e+00\n",
      "    2.38173913e-03]\n",
      " [  0.00000000e+00   4.82624818e-02   6.93609387e-02   1.55682299e-03\n",
      "    7.27579056e-03   3.33860473e-01   1.97580112e-01   0.00000000e+00\n",
      "    9.35141930e-01   4.06783246e-01   3.78391206e-01   1.25022849e-01\n",
      "    1.27057242e-01   4.06066616e-01   1.54948577e-02   4.35802739e-03\n",
      "    1.00266987e-02]]\n",
      "0 7\n",
      "0 8\n",
      "1 0\n",
      "1 1\n",
      "1 5\n",
      "2 8\n",
      "PCA squared error is 2.79289880217\n"
     ]
    }
   ],
   "source": [
    "model = NMF(n_components=3, init='random', random_state=9)\n",
    "W = model.fit_transform(data_n)\n",
    "H = model.components_\n",
    "NMF_origin=model.inverse_transform(W)\n",
    "NMF_s_error=metrics.mean_squared_error(data_n,NMF_origin)*417*17\n",
    "print('NMF squared error is',NMF_s_error)\n",
    "print(H)\n",
    "for i in range(3):\n",
    "    for j in range(17):\n",
    "        if H[i][j]>0.8:\n",
    "            print(i,j)\n",
    "PCA_origin=pca.inverse_transform(Y)\n",
    "PCA_s_error=metrics.mean_squared_error(data_n,PCA_origin)*417*17\n",
    "print('PCA squared error is',PCA_s_error)            "
   ]
  },
  {
   "cell_type": "code",
   "execution_count": 25,
   "metadata": {
    "scrolled": true
   },
   "outputs": [
    {
     "name": "stdout",
     "output_type": "stream",
     "text": [
      "important features by NMF are\n",
      "apps received\n",
      "apps accepted\n",
      "num FT undergrad\n",
      "in-state tuition\n",
      "out-of-state tuition\n"
     ]
    }
   ],
   "source": [
    "print('important features by NMF are')\n",
    "for i in [0,1,5,7,8]:\n",
    "    print(df.columns[i])"
   ]
  },
  {
   "cell_type": "code",
   "execution_count": null,
   "metadata": {
    "collapsed": true
   },
   "outputs": [],
   "source": []
  }
 ],
 "metadata": {
  "kernelspec": {
   "display_name": "Python 3",
   "language": "python",
   "name": "python3"
  },
  "language_info": {
   "codemirror_mode": {
    "name": "ipython",
    "version": 3
   },
   "file_extension": ".py",
   "mimetype": "text/x-python",
   "name": "python",
   "nbconvert_exporter": "python",
   "pygments_lexer": "ipython3",
   "version": "3.6.1"
  }
 },
 "nbformat": 4,
 "nbformat_minor": 2
}
