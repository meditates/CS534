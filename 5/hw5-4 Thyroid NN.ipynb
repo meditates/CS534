{
 "cells": [
  {
   "cell_type": "markdown",
   "metadata": {},
   "source": [
    "# problem 4 a"
   ]
  },
  {
   "cell_type": "code",
   "execution_count": 1,
   "metadata": {
    "collapsed": true
   },
   "outputs": [],
   "source": [
    "import numpy as np\n",
    "import pandas as pd\n",
    "from sklearn.neural_network import MLPClassifier\n",
    "from sklearn.metrics import accuracy_score\n",
    "from sklearn.ensemble import RandomForestClassifier\n",
    "import matplotlib.pyplot as plt\n",
    "from matplotlib import colors\n",
    "from numpy import *\n",
    "from sklearn import linear_model,metrics,preprocessing,model_selection,tree\n",
    "import random\n",
    "import math\n",
    "from scipy.stats import mode\n",
    "import time\n",
    "\n",
    "data = pd.read_csv('allhyper.data')\n",
    "#data preprocess\n",
    "data['class'].replace(to_replace=['T3 toxic.','goitre.','negative.','hyperthyroid.'],value=[0,0,0,1],inplace=True)\n",
    "data['sex'].replace(to_replace=['F','M'],value=[0,1],inplace=True)\n",
    "data.replace(to_replace=['f','t'],value=[0,1],inplace=True)\n",
    "data['refSource'].replace(to_replace=['other','SVI','SVHC','STMW','SVHD'],value=[0,1,2,3,4],inplace=True)\n",
    "\n",
    "model_selection.train_test_split\n",
    "y = data[['class']]\n",
    "data.drop(['class','TBGInd','TBG'],axis=1,inplace=True)\n",
    "\n",
    "X=data\n",
    "X_train, X_test, y_train, y_test = model_selection.train_test_split(X, y,test_size=0.15,random_state=42 )\n",
    "values = {'sex': (X_train['sex'].mode()[0]),\n",
    "          'onThyroxine':(X_train['onThyroxine'].mode()[0]),\n",
    "           'queryOnThyroxine': (X_train['queryOnThyroxine'].mode()[0]),\n",
    "          'onAntithyroidMed': (X_train['onAntithyroidMed'].mode()[0]),\n",
    "          'sick': (X_train['sick'].mode()[0]),\n",
    "          'preg': (X_train['preg'].mode()[0]),\n",
    "          'thySurg': (X_train['thySurg'].mode()[0]),\n",
    "          'I131': (X_train['I131'].mode()[0]),\n",
    "          'queryHypothyroid': (X_train['queryHypothyroid'].mode()[0]),\n",
    "          'queryHyperthyroid': (X_train['queryHyperthyroid'].mode()[0]),\n",
    "          'lithium': (X_train['lithium'].mode()[0]),\n",
    "          'goitre': (X_train['goitre'].mode()[0]),\n",
    "          'tumor': (X_train['tumor'].mode()[0]),\n",
    "          'hypopituitary': (X_train['hypopituitary'].mode()[0]),\n",
    "          'psych': (X_train['psych'].mode()[0]),\n",
    "          'TSHInd': (X_train['TSHInd'].mode()[0]),\n",
    "          'T3Ind': (X_train['T3Ind'].mode()[0]),\n",
    "           'TT4Ind': (X_train['TT4Ind'].mode()[0]),\n",
    "           'T4UInd': (X_train['T4UInd'].mode()[0]),\n",
    "           'FTIInd': (X_train['FTIInd'].mode()[0]),\n",
    "            'refSource': (X_train['refSource'].mode()[0]),\n",
    "            'age':(nanmean(X_train['age'])),\n",
    "            'TSH':(nanmean(X_train['TSH'])),\n",
    "            'T3':(nanmean(X_train['T3'])),\n",
    "            'TT4':(nanmean(X_train['TT4'])),\n",
    "          'T4U':(nanmean(X_train['T4U'])),\n",
    "          'FTI':(nanmean(X_train['FTI'])),\n",
    "         }\n",
    "                     \n",
    "X_train=X_train.fillna(value=values)\n",
    "X_test=X_test.fillna(value=values)\n",
    "\n",
    "#preprocessing: scalability\n",
    "X_train[['age','TSH','T3','TT4','T4U','FTI']]=preprocessing.scale(X_train[['age','TSH','T3','TT4','T4U','FTI']])\n",
    "X_test[['age','TSH','T3','TT4','T4U','FTI']]=preprocessing.scale(X_test[['age','TSH','T3','TT4','T4U','FTI']])\n",
    "\n",
    "X_train=np.array(X_train)\n",
    "X_test=np.array(X_test)\n",
    "\n",
    "y_train=(np.array(y_train))[:,0]\n",
    "y_test=(np.array(y_test))[:,0]\n"
   ]
  },
  {
   "cell_type": "markdown",
   "metadata": {},
   "source": [
    "# problem 4 b"
   ]
  },
  {
   "cell_type": "code",
   "execution_count": 2,
   "metadata": {
    "scrolled": true
   },
   "outputs": [
    {
     "name": "stdout",
     "output_type": "stream",
     "text": [
      "the best alpha is: 0.278255940221\n",
      "the best layer is: 4\n"
     ]
    },
    {
     "data": {
      "text/plain": [
       "MLPClassifier(activation='relu', alpha=0.27825594022071259, batch_size='auto',\n",
       "       beta_1=0.9, beta_2=0.999, early_stopping=False, epsilon=1e-08,\n",
       "       hidden_layer_sizes=4, learning_rate='constant',\n",
       "       learning_rate_init=0.001, max_iter=200, momentum=0.9,\n",
       "       nesterovs_momentum=True, power_t=0.5, random_state=1, shuffle=True,\n",
       "       solver='lbfgs', tol=0.0001, validation_fraction=0.1, verbose=False,\n",
       "       warm_start=False)"
      ]
     },
     "execution_count": 2,
     "metadata": {},
     "output_type": "execute_result"
    }
   ],
   "source": [
    "ftwo_scorer= metrics.make_scorer(metrics.fbeta_score, beta=2)\n",
    "Ftwo_NN=np.zeros((10,10))\n",
    "alphas=np.logspace(-6,1,10)\n",
    "layers=np.arange(1,11)\n",
    "i=0\n",
    "for a in alphas:\n",
    "    for b in layers:\n",
    "        clf = MLPClassifier(solver='lbfgs', alpha=a,hidden_layer_sizes=(b), random_state=1)\n",
    "        Ftwo = model_selection.cross_val_score(clf, X_train, y_train, cv=5, scoring=ftwo_scorer)\n",
    "        Ftwo_NN[i][b-1] =Ftwo.mean()\n",
    "    i=i+1    \n",
    "re=np.where(Ftwo_NN==np.max(Ftwo_NN))\n",
    "i=re[0][0]\n",
    "a=alphas[i]\n",
    "index2=re[1][0]+1\n",
    "b=layers[index2]\n",
    "print('the best alpha is:',a)\n",
    "print('the best layer is:',b)\n",
    "\n",
    "clf = MLPClassifier(solver='lbfgs', alpha=a, hidden_layer_sizes=(b), random_state=1)\n",
    "clf.fit(X_train, y_train)\n"
   ]
  },
  {
   "cell_type": "code",
   "execution_count": 4,
   "metadata": {},
   "outputs": [
    {
     "name": "stdout",
     "output_type": "stream",
     "text": [
      "the best layer2 is: 7\n",
      "0.28447771072387695\n"
     ]
    }
   ],
   "source": [
    "Ftwo_NN=[]\n",
    "layer2=np.arange(1,11)\n",
    "for c in layer2:\n",
    "    clf = MLPClassifier(solver='lbfgs', alpha=a,hidden_layer_sizes=(b,c), random_state=1)\n",
    "    Ftwo = model_selection.cross_val_score(clf, X_train, y_train, cv=5, scoring=ftwo_scorer)\n",
    "    Ftwo_NN.append(Ftwo.mean()) \n",
    "c=layer2[Ftwo_NN.index(max(Ftwo_NN))]\n",
    "print('the best layer2 is:',c)\n",
    "\n",
    "ticks1 = time.time()\n",
    "clf = MLPClassifier(solver='lbfgs', alpha=a, hidden_layer_sizes=(b,c), random_state=1)\n",
    "clf.fit(X_train, y_train)\n",
    "ticks2 = time.time()\n",
    "time_NN=ticks2-ticks1\n",
    "print(time_NN)"
   ]
  },
  {
   "cell_type": "code",
   "execution_count": 5,
   "metadata": {},
   "outputs": [
    {
     "name": "stdout",
     "output_type": "stream",
     "text": [
      "0.3674454689025879\n"
     ]
    }
   ],
   "source": [
    "ticks1 = time.time()\n",
    "clf = MLPClassifier(solver='lbfgs', alpha=a, hidden_layer_sizes=(b,c,4,4), random_state=1)\n",
    "clf.fit(X_train, y_train)\n",
    "ticks2 = time.time()\n",
    "time_NN=ticks2-ticks1\n",
    "print(time_NN)"
   ]
  },
  {
   "cell_type": "markdown",
   "metadata": {},
   "source": [
    "# problem 4 c"
   ]
  },
  {
   "cell_type": "code",
   "execution_count": 6,
   "metadata": {},
   "outputs": [
    {
     "name": "stdout",
     "output_type": "stream",
     "text": [
      "error_NN_train 0.00168067226891\n",
      "Fone_NN_train: 0.962264150943\n",
      "Ftwo_NN_train: 0.962264150943\n",
      "error_NN_test 0.0142857142857\n",
      "Fone_NN_test: 0.7\n",
      "Ftwo_NN_test: 0.744680851064\n"
     ]
    }
   ],
   "source": [
    "\n",
    "y_pred_train = clf.predict(X_train)\n",
    "error_NN_train=1-accuracy_score(y_train, y_pred_train)\n",
    "Fone_NN_train=metrics.fbeta_score(y_train, y_pred_train,beta=1)\n",
    "Ftwo_NN_train=metrics.fbeta_score(y_train, y_pred_train,beta=2)\n",
    "print('error_NN_train',error_NN_train)\n",
    "print('Fone_NN_train:',Fone_NN_train)\n",
    "print('Ftwo_NN_train:',Ftwo_NN_train)\n",
    "\n",
    "y_pred_test = clf.predict(X_test)\n",
    "error_NN_test=1-accuracy_score(y_test, y_pred_test)\n",
    "Fone_NN_test=metrics.fbeta_score(y_test, y_pred_test,beta=1)\n",
    "Ftwo_NN_test=metrics.fbeta_score(y_test, y_pred_test,beta=2)\n",
    "print('error_NN_test',error_NN_test)\n",
    "print('Fone_NN_test:',Fone_NN_test)\n",
    "print('Ftwo_NN_test:',Ftwo_NN_test)\n"
   ]
  },
  {
   "cell_type": "code",
   "execution_count": 16,
   "metadata": {
    "collapsed": true
   },
   "outputs": [],
   "source": [
    "\n",
    "def get_subsample(Xarray,yarray):  \n",
    "    sub_index = np.random.randint(0, len(yarray), size=(len(yarray)))\n",
    "    X_one = Xarray[sub_index, :]\n",
    "    y_one = yarray[sub_index].transpose()\n",
    "\n",
    "    nochoose_index=list(set(np.arange(len(yarray)))-set(sub_index))\n",
    "\n",
    "    X_nochoose = Xarray[nochoose_index, :]\n",
    "    y_nochoose = yarray[nochoose_index].transpose()\n",
    "    \n",
    "    return X_one,y_one,X_nochoose,y_nochoose,nochoose_index  \n",
    "\n",
    "def random_forest(Xarray,yarray,Xnew,nest,criterion, maxDepth, minStamplesLeaf):\n",
    "#    mytree=[]\n",
    "    ypred=[]\n",
    "    ynew=[]\n",
    "    ypred_no=[]\n",
    "    yoob=np.arange(nest*len(yarray)).reshape((nest,len(yarray)))\n",
    "    yoob[0]=np.zeros(len(yarray))\n",
    "    for i in range(nest):\n",
    "        Xsub,ysub,Xno,yno,nochoose_index=get_subsample(Xarray,yarray)\n",
    "        clf = tree.DecisionTreeClassifier(max_features='sqrt',max_depth = maxDepth, min_samples_leaf = minStamplesLeaf,criterion=criterion,random_state=1 )\n",
    "        clf.fit(Xsub,ysub)\n",
    "#        mytree.append(clf)\n",
    "        ypred.append(clf.predict(Xnew))\n",
    "\n",
    "        ypred_no=clf.predict(Xno)\n",
    "        \n",
    "        j=0\n",
    "        for item in nochoose_index:            \n",
    "            yoob[i][item]=ypred_no[j]\n",
    "            j=j+1\n",
    "\n",
    "    y=mode(ypred)\n",
    "    ynew=y.mode[0]\n",
    "\n",
    "    yno=mode(yoob)\n",
    "    yno_hat=yno.mode[0]\n",
    "   \n",
    "    oob_accuracy=accuracy_score(yarray, yno_hat)\n",
    "#    oob_accuracy=metrics.fbeta_score(yarray, yno_hat,beta=2)\n",
    "\n",
    "    return ynew,oob_accuracy \n"
   ]
  },
  {
   "cell_type": "code",
   "execution_count": 33,
   "metadata": {
    "scrolled": true
   },
   "outputs": [
    {
     "name": "stdout",
     "output_type": "stream",
     "text": [
      "1.0234427452087402\n",
      "error_RF_test 0.009524\n",
      "Fone_RF_test: 0.75\n",
      "Ftwo_RF_test: 0.697674\n"
     ]
    }
   ],
   "source": [
    "ticks1 = time.time()\n",
    "y_pred_test,cc=random_forest(X_train,y_train,X_test,10,'gini',11,3)  #'entropy' \n",
    "ticks2 = time.time()\n",
    "time_RF=ticks2-ticks1\n",
    "print(time_RF)\n",
    "error_RF_test=1-accuracy_score(y_test, y_pred_test)\n",
    "Fone_RF_test=metrics.fbeta_score(y_test, y_pred_test,beta=1)\n",
    "Ftwo_RF_test=metrics.fbeta_score(y_test, y_pred_test,beta=2)\n",
    "print('error_RF_test:',error_RF_test)\n",
    "print('Fone_RF_test:',Fone_RF_test)\n",
    "print('Ftwo_RF_test:',Ftwo_RF_test)"
   ]
  },
  {
   "cell_type": "code",
   "execution_count": 19,
   "metadata": {},
   "outputs": [
    {
     "name": "stdout",
     "output_type": "stream",
     "text": [
      "0.15319609642028809\n",
      "error_poly_train 0.00336134453782\n",
      "Fone_poly_train: 0.923076923077\n",
      "Ftwo_poly_train: 0.912547528517\n",
      "error_poly_test 0.0190476190476\n",
      "Fone_poly_test: 0.6\n",
      "Ftwo_poly_test: 0.63829787234\n"
     ]
    }
   ],
   "source": [
    "from sklearn import svm\n",
    "ticks1 = time.time()\n",
    "clf = svm.SVC(C=853.167852417,kernel='poly',degree=2)\n",
    "clf.fit(X_train, y_train)\n",
    "ticks2 = time.time()\n",
    "time_SVM=ticks2-ticks1\n",
    "print(time_SVM)\n",
    "\n",
    "y_pred_train = clf.predict(X_train)\n",
    "error_poly_train=1-accuracy_score(y_train, y_pred_train)\n",
    "Fone_poly_train=metrics.fbeta_score(y_train, y_pred_train,beta=1)\n",
    "Ftwo_poly_train=metrics.fbeta_score(y_train, y_pred_train,beta=2)\n",
    "print('error_poly_train',error_poly_train)\n",
    "print('Fone_poly_train:',Fone_poly_train)\n",
    "print('Ftwo_poly_train:',Ftwo_poly_train)\n",
    "\n",
    "y_pred_test = clf.predict(X_test)\n",
    "error_poly_test=1-accuracy_score(y_test, y_pred_test)\n",
    "Fone_poly_test=metrics.fbeta_score(y_test, y_pred_test,beta=1)\n",
    "Ftwo_poly_test=metrics.fbeta_score(y_test, y_pred_test,beta=2)\n",
    "print('error_poly_test',error_poly_test)\n",
    "print('Fone_poly_test:',Fone_poly_test)\n",
    "print('Ftwo_poly_test:',Ftwo_poly_test)"
   ]
  },
  {
   "cell_type": "markdown",
   "metadata": {},
   "source": [
    "# problem 4 c"
   ]
  },
  {
   "cell_type": "code",
   "execution_count": 29,
   "metadata": {},
   "outputs": [
    {
     "name": "stdout",
     "output_type": "stream",
     "text": [
      "evaluation report:\n"
     ]
    },
    {
     "data": {
      "text/html": [
       "<div>\n",
       "<style>\n",
       "    .dataframe thead tr:only-child th {\n",
       "        text-align: right;\n",
       "    }\n",
       "\n",
       "    .dataframe thead th {\n",
       "        text-align: left;\n",
       "    }\n",
       "\n",
       "    .dataframe tbody tr th {\n",
       "        vertical-align: top;\n",
       "    }\n",
       "</style>\n",
       "<table border=\"1\" class=\"dataframe\">\n",
       "  <thead>\n",
       "    <tr style=\"text-align: right;\">\n",
       "      <th></th>\n",
       "      <th>evaluation</th>\n",
       "      <th>NN train</th>\n",
       "      <th>NN test</th>\n",
       "      <th>SVM polynomial train</th>\n",
       "      <th>SVM polynomial test</th>\n",
       "      <th>random forest test</th>\n",
       "    </tr>\n",
       "  </thead>\n",
       "  <tbody>\n",
       "    <tr>\n",
       "      <th>0</th>\n",
       "      <td>misclassification</td>\n",
       "      <td>0.001681</td>\n",
       "      <td>0.014286</td>\n",
       "      <td>0.003361</td>\n",
       "      <td>0.019048</td>\n",
       "      <td>0.009524</td>\n",
       "    </tr>\n",
       "    <tr>\n",
       "      <th>1</th>\n",
       "      <td>F1 score</td>\n",
       "      <td>0.962264</td>\n",
       "      <td>0.700000</td>\n",
       "      <td>0.923077</td>\n",
       "      <td>0.600000</td>\n",
       "      <td>0.750000</td>\n",
       "    </tr>\n",
       "    <tr>\n",
       "      <th>2</th>\n",
       "      <td>F2 score</td>\n",
       "      <td>0.962264</td>\n",
       "      <td>0.744681</td>\n",
       "      <td>0.912548</td>\n",
       "      <td>0.638298</td>\n",
       "      <td>0.697674</td>\n",
       "    </tr>\n",
       "  </tbody>\n",
       "</table>\n",
       "</div>"
      ],
      "text/plain": [
       "          evaluation  NN train   NN test  SVM polynomial train  \\\n",
       "0  misclassification  0.001681  0.014286              0.003361   \n",
       "1           F1 score  0.962264  0.700000              0.923077   \n",
       "2           F2 score  0.962264  0.744681              0.912548   \n",
       "\n",
       "   SVM polynomial test  random forest test  \n",
       "0             0.019048            0.009524  \n",
       "1             0.600000            0.750000  \n",
       "2             0.638298            0.697674  "
      ]
     },
     "execution_count": 29,
     "metadata": {},
     "output_type": "execute_result"
    }
   ],
   "source": [
    "print('evaluation report:')\n",
    "\n",
    "evaluation_table=[('evaluation',['misclassification','F1 score','F2 score']),\n",
    "           ('NN train',[error_NN_train,Fone_NN_train,Ftwo_NN_train]),\n",
    "           ('NN test',[error_NN_test,Fone_NN_test,Ftwo_NN_test]),\n",
    "           ('SVM polynomial train',[error_poly_train,Fone_poly_train,Ftwo_poly_train]),\n",
    "           ('SVM polynomial test',[error_poly_test,Fone_poly_test,Ftwo_poly_test]),\n",
    "           ( 'random forest test',[error_RF_test,Fone_RF_test,Ftwo_RF_test]),]\n",
    "pd.DataFrame.from_items(evaluation_table)\n",
    "\n"
   ]
  },
  {
   "cell_type": "code",
   "execution_count": 31,
   "metadata": {},
   "outputs": [
    {
     "data": {
      "text/html": [
       "<div>\n",
       "<style>\n",
       "    .dataframe thead tr:only-child th {\n",
       "        text-align: right;\n",
       "    }\n",
       "\n",
       "    .dataframe thead th {\n",
       "        text-align: left;\n",
       "    }\n",
       "\n",
       "    .dataframe tbody tr th {\n",
       "        vertical-align: top;\n",
       "    }\n",
       "</style>\n",
       "<table border=\"1\" class=\"dataframe\">\n",
       "  <thead>\n",
       "    <tr style=\"text-align: right;\">\n",
       "      <th></th>\n",
       "      <th>evaluation2</th>\n",
       "      <th>NN</th>\n",
       "      <th>SVM polynomial</th>\n",
       "      <th>random forest</th>\n",
       "    </tr>\n",
       "  </thead>\n",
       "  <tbody>\n",
       "    <tr>\n",
       "      <th>0</th>\n",
       "      <td>number of parameters</td>\n",
       "      <td>21</td>\n",
       "      <td>2</td>\n",
       "      <td>4</td>\n",
       "    </tr>\n",
       "    <tr>\n",
       "      <th>1</th>\n",
       "      <td>computation time</td>\n",
       "      <td>0.367445</td>\n",
       "      <td>0.153196</td>\n",
       "      <td>0.195137</td>\n",
       "    </tr>\n",
       "  </tbody>\n",
       "</table>\n",
       "</div>"
      ],
      "text/plain": [
       "            evaluation2       NN  SVM polynomial random forest\n",
       "0  number of parameters        21              2             4\n",
       "1      computation time  0.367445       0.153196      0.195137"
      ]
     },
     "execution_count": 31,
     "metadata": {},
     "output_type": "execute_result"
    }
   ],
   "source": [
    "evaluation_table2=[('evaluation2',['number of parameters','computation time']),\n",
    "           ('NN ',['21',time_NN]),\n",
    "           ('SVM polynomial',['2',time_SVM]),\n",
    "           ('random forest',['4',time_RF]),]\n",
    "pd.DataFrame.from_items(evaluation_table2)"
   ]
  },
  {
   "cell_type": "code",
   "execution_count": null,
   "metadata": {
    "collapsed": true
   },
   "outputs": [],
   "source": []
  }
 ],
 "metadata": {
  "kernelspec": {
   "display_name": "Python 3",
   "language": "python",
   "name": "python3"
  },
  "language_info": {
   "codemirror_mode": {
    "name": "ipython",
    "version": 3
   },
   "file_extension": ".py",
   "mimetype": "text/x-python",
   "name": "python",
   "nbconvert_exporter": "python",
   "pygments_lexer": "ipython3",
   "version": "3.6.1"
  }
 },
 "nbformat": 4,
 "nbformat_minor": 2
}
