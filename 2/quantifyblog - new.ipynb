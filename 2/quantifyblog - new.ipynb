{
 "cells": [
  {
   "cell_type": "markdown",
   "metadata": {},
   "source": [
    "# Problem 3 a"
   ]
  },
  {
   "cell_type": "code",
   "execution_count": 7,
   "metadata": {
    "collapsed": true
   },
   "outputs": [],
   "source": [
    "import pandas as pd\n",
    "import numpy as np\n",
    "from numpy import *\n",
    "import matplotlib.pyplot as plt\n",
    "from sklearn import linear_model,metrics\n",
    "from sklearn import preprocessing\n",
    "import random\n",
    "import math\n",
    "\n",
    "%matplotlib inline\n",
    "\n",
    "# read data into a DataFrame\n",
    "data = pd.read_csv('blogData_train.csv',header=None,index_col=False) \n",
    "data= np.array(data)\n",
    "random.shuffle(data)\n",
    "Xd = data[:,0:280]\n",
    "yd = data[:,280]\n",
    "N = len(yd)\n",
    "\n",
    "min_max_scaler = preprocessing.MinMaxScaler()\n",
    "min_max_scaler.fit(Xd)\n",
    "Xd = min_max_scaler.transform(Xd)\n",
    "\n"
   ]
  },
  {
   "cell_type": "code",
   "execution_count": 59,
   "metadata": {
    "collapsed": true
   },
   "outputs": [],
   "source": [
    "\n",
    "\n",
    "def myBLB(Xarray,yarray,subset_size,subset_number,inner_iteration):\n",
    "    b=subset_size\n",
    "    s=subset_number\n",
    "    r=inner_iteration\n",
    "\n",
    "    Q_Error=[]\n",
    "    B=[]\n",
    "    B_best=[]\n",
    "    sig=[]\n",
    "    index=0\n",
    "    Error_sum=0\n",
    "    for i in range(s):\n",
    "#        x行范围b*i-（b+1）*i， 随机取n次\n",
    "        if((index+b)>N):\n",
    "            index=(index+b) % N\n",
    "        Error_rB=0        \n",
    "        for j in range(r):\n",
    "            q=0\n",
    "            X_sub=[]\n",
    "            y_sub=[]\n",
    "#iteration  \n",
    "            Error_min=100000000000\n",
    "            B_Best_oner=np.zeros(280)\n",
    "\n",
    "            for k in range(N):\n",
    "                p=random.randint(index,index+b)\n",
    "                X_sub.append(Xarray[p])\n",
    "                y_sub.append(yarray[p])\n",
    "\n",
    "            X_sub=np.array(X_sub)\n",
    "            y_sub=np.array(y_sub)\n",
    "            Btemp=np.dot(np.dot(np.linalg.pinv(np.dot(X_sub.T,X_sub)),X_sub.T),y_sub.T)\n",
    "            \n",
    "            B.append(Btemp)\n",
    "            Error_oneB=0\n",
    "            \n",
    "            for ii in range(280):\n",
    "                Error_oneB= Error_oneB + abs(Btemp[ii]-B_true[ii])\n",
    "            if(Error_oneB<Error_min):\n",
    "                B_Best_oner=Btemp\n",
    "                Error_min=Error_oneB\n",
    "            Error_rB=Error_rB+Error_oneB\n",
    "            \n",
    "        Error_sum=Error_sum + Error_rB\n",
    "        \n",
    "        Q_Error.append(Error_sum/(i+1))\n",
    "        \n",
    "        B_best.append(B_Best_oner)\n",
    "        B_pred=np.mean(B_best,axis=0)\n",
    "        \n",
    "        index=index+b\n",
    "\n",
    "    return Q_Error,B,B_pred\n",
    "\n"
   ]
  },
  {
   "cell_type": "markdown",
   "metadata": {},
   "source": [
    "# Problem 3 b"
   ]
  },
  {
   "cell_type": "code",
   "execution_count": 61,
   "metadata": {},
   "outputs": [
    {
     "data": {
      "image/png": "[encoded data removed]",
      "text/plain": [
       "<matplotlib.figure.Figure at 0x184fe2cc550>"
      ]
     },
     "metadata": {},
     "output_type": "display_data"
    }
   ],
   "source": [
    "# compute the true B by the whole train data\n",
    "lm = linear_model.LinearRegression(fit_intercept=False, normalize=False)\n",
    "lm.fit(Xd,yd)\n",
    "B_true=lm.coef_\n",
    "\n",
    "#b=N**0.7,s=50,r=100\n",
    "b=int(math.pow(N,0.7))\n",
    "\n",
    "Error_all,B_all,B_estimate = myBLB(Xd,yd,b,50,100)\n",
    "\n",
    "s=np.arange(1,51)\n",
    "plt.plot(s, Error_all)\n",
    "\n",
    "plt.xlabel('s')\n",
    "plt.ylabel('Error_all')\n",
    "plt.show()"
   ]
  },
  {
   "cell_type": "markdown",
   "metadata": {},
   "source": [
    "It seems that the S is converge when it is bigger than 50"
   ]
  },
  {
   "cell_type": "markdown",
   "metadata": {},
   "source": [
    "# Problem 3 c"
   ]
  },
  {
   "cell_type": "code",
   "execution_count": 99,
   "metadata": {},
   "outputs": [
    {
     "name": "stdout",
     "output_type": "stream",
     "text": [
      "the confidence intervals of the top 5 coefficients are: [[-3505.85570624  5242.51876386]\n",
      " [-3476.33602686  5179.36745326]\n",
      " [-5853.34591992  8068.23997172]\n",
      " [-5372.81711171  6728.82169706]\n",
      " [-5728.28711839  6663.35971745]]\n",
      "the corresponding true estimates coefficents are [18642644.241936244, -18932066.581074864, 43.598491437733173, -50.793638187460601, 21.319248482002877]\n"
     ]
    },
    {
     "data": {
      "image/png": "[encoded data removed]",
      "text/plain": [
       "<matplotlib.figure.Figure at 0x184809c9e48>"
      ]
     },
     "metadata": {},
     "output_type": "display_data"
    }
   ],
   "source": [
    "from scipy import stats\n",
    "#sort the B_pred, find the top 5 coefficients\n",
    "B_sort=sorted(enumerate(B_estimate), key=lambda x:x[1],reverse = True)\n",
    "B_all=np.array(B_all)\n",
    "\n",
    "index=[]\n",
    "B_top=[]\n",
    "mean_B_top=[]\n",
    "SE_B_top=[]\n",
    "B_ture_top=[]\n",
    "B_all=np.array(B_all)\n",
    "intervals_B_top=[]\n",
    "\n",
    "for i in range(5):\n",
    "    index.append(B_sort[i][0])\n",
    "\n",
    "    B_top.append(B_all[:,index[i]])\n",
    "    B_ture_top.append(B_true[index[i]])\n",
    "    \n",
    "B_top=np.array(B_top)\n",
    "for i in range(5):\n",
    "    mean_B_top.append(np.mean(B_top[i,:]))\n",
    "    SE_B_top.append(np.std(B_top[i])) #standard B1\n",
    "#95 confidence interval:\n",
    "    intervals_B_top.append(stats.norm.interval(0.95,loc=mean_B_top[i],scale= SE_B_top[i]))\n",
    "#    print(intervals_B_top[i])\n",
    "intervals_B_top=np.array(intervals_B_top)\n",
    "k=np.arange(5)\n",
    "\n",
    "print('the confidence intervals of the top 5 coefficients are:',intervals_B_top)\n",
    "print('the corresponding true estimates coefficents are',B_ture_top)\n",
    "\n",
    "axes = plt.gca()\n",
    "axes.set_ylim([-10000,10000])\n",
    "plt.plot(k, intervals_B_top[:,0],'bo',label = 'the up estimate')\n",
    "plt.plot(k, intervals_B_top[:,1],'go',label = 'the down estimate')\n",
    "plt.plot(k, B_ture_top,'ro',label = 'the true estimate')\n",
    "plt.xlabel('k')\n",
    "plt.ylabel('intervals of the top 5 coefficients')\n",
    "plt.show()\n"
   ]
  },
  {
   "cell_type": "markdown",
   "metadata": {},
   "source": [
    "There are only 3 out of 5 \"true estimates\" coefficients is in the coefficience intervals. "
   ]
  },
  {
   "cell_type": "code",
   "execution_count": null,
   "metadata": {
    "collapsed": true
   },
   "outputs": [],
   "source": []
  }
 ],
 "metadata": {
  "kernelspec": {
   "display_name": "Python 3",
   "language": "python",
   "name": "python3"
  },
  "language_info": {
   "codemirror_mode": {
    "name": "ipython",
    "version": 3
   },
   "file_extension": ".py",
   "mimetype": "text/x-python",
   "name": "python",
   "nbconvert_exporter": "python",
   "pygments_lexer": "ipython3",
   "version": "3.6.1"
  }
 },
 "nbformat": 4,
 "nbformat_minor": 2
}
