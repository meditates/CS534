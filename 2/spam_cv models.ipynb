{
 "cells": [
  {
   "cell_type": "markdown",
   "metadata": {},
   "source": [
    "# Problem 4 a"
   ]
  },
  {
   "cell_type": "code",
   "execution_count": 3,
   "metadata": {},
   "outputs": [
    {
     "name": "stdout",
     "output_type": "stream",
     "text": [
      "0.954348444748\n"
     ]
    }
   ],
   "source": [
    "from sklearn import datasets\n",
    "from sklearn import model_selection\n",
    "from sklearn import linear_model\n",
    "from sklearn import metrics\n",
    "import numpy as np\n",
    "\n",
    "from sklearn import preprocessing\n",
    "import math\n",
    "from sklearn import cross_validation\n",
    "import matplotlib.pyplot as plt\n",
    "\n",
    "#download the data set\n",
    "X = np.loadtxt('train-features.txt')\n",
    "y = np.loadtxt('train-labels.txt')\n",
    "\n",
    "X_message = int(max(X[:,0]))\n",
    "X_word_id = int(max(X[:,1]))\n",
    "X_line = X.shape[0]\n",
    "\n",
    "\n",
    "#build the data matrix as X_data\n",
    "X_data = np.zeros((X_message,X_word_id))\n",
    "i=0\n",
    "for i in range(X_line): # every line of Xdata\n",
    "    message_num = int(X[i][0])-1\n",
    "    word_num    = int(X[i][1])-1\n",
    "    word_times  = int(X[i][2])\n",
    "    X_data[message_num][word_num]=word_times\n",
    "\n",
    "#standardizing the data\n",
    "X_scaled=preprocessing.scale(X_data)\n",
    "\n",
    "# use train/test split with different random_state values\n",
    "X_train, X_test, y_train, y_test = model_selection.train_test_split(X_scaled, y)\n",
    "\n",
    "# standard logistic regression\n",
    "lr_model_stand = linear_model.LogisticRegression(C=math.pow(10,40))\n",
    "scores_stand = model_selection.cross_val_score(lr_model_stand, X_train, y_train, cv=10, scoring='accuracy')\n",
    "print(scores_stand.mean())\n"
   ]
  },
  {
   "cell_type": "code",
   "execution_count": 4,
   "metadata": {},
   "outputs": [
    {
     "data": {
      "image/png": "[encoded data removed]",
      "text/plain": [
       "<matplotlib.figure.Figure at 0x1a5e446e470>"
      ]
     },
     "metadata": {},
     "output_type": "display_data"
    }
   ],
   "source": [
    "# 10-fold cross-validation with logistic regression in model ridge\n",
    "# search for an optimal value of lambda for l2\n",
    "lambda_range = np.logspace(-7, -1, 50)\n",
    "lambda_scores = []\n",
    "for regParam in lambda_range:\n",
    "    lr_model_ridge = linear_model.LogisticRegression(C=regParam)\n",
    "    scores_ridge = model_selection.cross_val_score(lr_model_ridge, X_train, y_train, cv=10, scoring='accuracy')\n",
    "    lambda_scores.append(scores_ridge.mean())\n",
    "\n",
    "# plot the value of lambda for ridge (x-axis) versus the cross-validated accuracy (y-axis)\n",
    "ax = plt.gca()\n",
    "ax.plot(lambda_range, lambda_scores)\n",
    "ax.set_xscale('log')\n",
    "plt.xlabel('Value of lambda for ridge')\n",
    "plt.ylabel('Cross-Validated Accuracy')\n",
    "plt.axis('tight')\n",
    "plt.show()"
   ]
  },
  {
   "cell_type": "code",
   "execution_count": 5,
   "metadata": {
    "scrolled": true
   },
   "outputs": [
    {
     "data": {
      "image/png": "[encoded data removed]",
      "text/plain": [
       "<matplotlib.figure.Figure at 0x1a5dff357b8>"
      ]
     },
     "metadata": {},
     "output_type": "display_data"
    }
   ],
   "source": [
    "# 10-fold cross-validation with logistic regression in model LASSO\n",
    "# search for an optimal value of lambda for l1\n",
    "lambda_range = np.logspace(-3, -0.1, 50)\n",
    "lambda_scores = []\n",
    "for regParam in lambda_range:\n",
    "    lrModel = linear_model.LogisticRegression(C=regParam,penalty='l1')\n",
    "    scores = model_selection.cross_val_score(lrModel, X_train, y_train, cv=10, scoring='accuracy')\n",
    "    lambda_scores.append(scores.mean())\n",
    "\n",
    "# plot the value of lambda for ridge (x-axis) versus the cross-validated accuracy (y-axis)\n",
    "ax = plt.gca()\n",
    "ax.plot(lambda_range, lambda_scores)\n",
    "ax.set_xscale('log')\n",
    "plt.xlabel('Value of lambda for LASSO')\n",
    "plt.ylabel('Cross-Validated Accuracy')\n",
    "plt.axis('tight')\n",
    "plt.show()"
   ]
  },
  {
   "cell_type": "markdown",
   "metadata": {},
   "source": [
    "C is the inverse of regularization strength. Since standard logistic regression does not have penalty, I choose a very big C to simulate no penalty. As we can see in the two graphs, ridge can choose C=10^(-3.2),LASSO can choose C=10^(-0.9)\n",
    "Next, we will use these C values in the three modles to validate the goodness, using the test set we left before."
   ]
  },
  {
   "cell_type": "code",
   "execution_count": 6,
   "metadata": {},
   "outputs": [
    {
     "name": "stdout",
     "output_type": "stream",
     "text": [
      "The accuracy score of standard model: 0.954285714286\n",
      "The accuracy score of ridge model: 0.971428571429\n",
      "The accuracy score of LASSO model: 0.965714285714\n"
     ]
    }
   ],
   "source": [
    "#use standard model ridge model and LASSO model by the C we choose\n",
    "lr_model_stand = linear_model.LogisticRegression(C=math.pow(10,40))\n",
    "lr_model_stand.fit(X_train, y_train)\n",
    "y_pred_stand = lr_model_stand.predict(X_test)\n",
    "print('The accuracy score of standard model:',metrics.accuracy_score(y_test, y_pred_stand))\n",
    "\n",
    "lr_model_ridge = linear_model.LogisticRegression(C=math.pow(10,-3.2))\n",
    "lr_model_ridge.fit(X_train, y_train)\n",
    "y_pred_ridge = lr_model_ridge.predict(X_test)\n",
    "print('The accuracy score of ridge model:',metrics.accuracy_score(y_test, y_pred_ridge))\n",
    "\n",
    "lr_model_LASSO = linear_model.LogisticRegression(C=math.pow(10,-0.9),penalty='l1')\n",
    "lr_model_LASSO.fit(X_train, y_train)\n",
    "y_pred_LASSO = lr_model_LASSO.predict(X_test)\n",
    "print('The accuracy score of LASSO model:',metrics.accuracy_score(y_test, y_pred_LASSO))"
   ]
  },
  {
   "cell_type": "markdown",
   "metadata": {},
   "source": [
    "# Problem 4 b"
   ]
  },
  {
   "cell_type": "code",
   "execution_count": 7,
   "metadata": {},
   "outputs": [
    {
     "name": "stdout",
     "output_type": "stream",
     "text": [
      "0.94277512166\n"
     ]
    }
   ],
   "source": [
    "#compute the sum of each word\n",
    "word_sum = X_scaled.sum(axis=0)\n",
    "#convert the feature matrix by frequency\n",
    "X_frequency=np.zeros((X_message,X_word_id))\n",
    "for j in range(X_word_id): # every column of X_scaled\n",
    "    if(word_sum[j]!=0):\n",
    "        for i in range(X_message):\n",
    "            X_frequency[i][j] = X_scaled[i][j]\n",
    "\n",
    "# use train/test split with different random_state values\n",
    "X_train2, X_test2, y_train2, y_test2 = model_selection.train_test_split(X_frequency, y)\n",
    "# standard logistic regression\n",
    "lr_model_stand = linear_model.LogisticRegression(C=math.pow(10,40))\n",
    "scores_stand = model_selection.cross_val_score(lr_model_stand, X_train2, y_train2, cv=10, scoring='accuracy')\n",
    "print(scores_stand.mean())"
   ]
  },
  {
   "cell_type": "code",
   "execution_count": 8,
   "metadata": {},
   "outputs": [
    {
     "data": {
      "image/png": "[encoded data removed]",
      "text/plain": [
       "<matplotlib.figure.Figure at 0x1a5dfa35160>"
      ]
     },
     "metadata": {},
     "output_type": "display_data"
    }
   ],
   "source": [
    "# 10-fold cross-validation with logistic regression in model ridge\n",
    "# search for an optimal value of lambda for l2\n",
    "lambda_range = np.logspace(-7, -1, 50)\n",
    "lambda_scores = []\n",
    "for regParam in lambda_range:\n",
    "    lr_model_ridge = linear_model.LogisticRegression(C=regParam)\n",
    "    scores_ridge = model_selection.cross_val_score(lr_model_ridge, X_train2, y_train2, cv=10, scoring='accuracy')\n",
    "    lambda_scores.append(scores_ridge.mean())\n",
    "\n",
    "# plot the value of lambda for ridge (x-axis) versus the cross-validated accuracy (y-axis)\n",
    "ax = plt.gca()\n",
    "ax.plot(lambda_range, lambda_scores)\n",
    "ax.set_xscale('log')\n",
    "plt.xlabel('Value of lambda for ridge')\n",
    "plt.ylabel('Cross-Validated Accuracy')\n",
    "plt.axis('tight')\n",
    "plt.show()"
   ]
  },
  {
   "cell_type": "code",
   "execution_count": 9,
   "metadata": {},
   "outputs": [
    {
     "data": {
      "image/png": "[encoded data removed]",
      "text/plain": [
       "<matplotlib.figure.Figure at 0x1a5df9bacf8>"
      ]
     },
     "metadata": {},
     "output_type": "display_data"
    }
   ],
   "source": [
    "# 10-fold cross-validation with logistic regression in model LASSO\n",
    "# search for an optimal value of lambda for l1\n",
    "lambda_range = np.logspace(-3, -0.1, 50)\n",
    "lambda_scores = []\n",
    "for regParam in lambda_range:\n",
    "    lrModel = linear_model.LogisticRegression(C=regParam,penalty='l1')\n",
    "    scores = model_selection.cross_val_score(lrModel, X_train2, y_train2, cv=10, scoring='accuracy')\n",
    "    lambda_scores.append(scores.mean())\n",
    "\n",
    "# plot the value of lambda for ridge (x-axis) versus the cross-validated accuracy (y-axis)\n",
    "ax = plt.gca()\n",
    "ax.plot(lambda_range, lambda_scores)\n",
    "ax.set_xscale('log')\n",
    "plt.xlabel('Value of lambda for LASSO')\n",
    "plt.ylabel('Cross-Validated Accuracy')\n",
    "plt.axis('tight')\n",
    "plt.show()"
   ]
  },
  {
   "cell_type": "markdown",
   "metadata": {},
   "source": [
    "C is the inverse of regularization strength. Since standard logistic regression does not have penalty, I choose a very big C to simulate no penalty. As we can see in the two graphs, ridge can choose C=10^(-3.9),LASSO can choose C=10^(-0.8) Next, we will use these C values in the three modles to validate the goodness, using the test set we left before."
   ]
  },
  {
   "cell_type": "code",
   "execution_count": 10,
   "metadata": {},
   "outputs": [
    {
     "name": "stdout",
     "output_type": "stream",
     "text": [
      "The accuracy score of standard model: 0.96\n",
      "The accuracy score of ridge model: 0.977142857143\n",
      "The accuracy score of LASSO model: 0.977142857143\n"
     ]
    }
   ],
   "source": [
    "#use standard model ridge model and LASSO model by the C we choose\n",
    "lr_model_stand2 = linear_model.LogisticRegression(C=math.pow(10,40))\n",
    "lr_model_stand2.fit(X_train2, y_train2)\n",
    "y_pred_stand2 = lr_model_stand2.predict(X_test2)\n",
    "print('The accuracy score of standard model:',metrics.accuracy_score(y_test2, y_pred_stand2))\n",
    "\n",
    "lr_model_ridge2 = linear_model.LogisticRegression(C=math.pow(10,-3.9))\n",
    "lr_model_ridge2.fit(X_train2, y_train2)\n",
    "y_pred_ridge2 = lr_model_ridge2.predict(X_test2)\n",
    "print('The accuracy score of ridge model:',metrics.accuracy_score(y_test2, y_pred_ridge2))\n",
    "\n",
    "lr_model_LASSO2 = linear_model.LogisticRegression(C=math.pow(10,-0.8),penalty='l1')\n",
    "lr_model_LASSO2.fit(X_train2, y_train2)\n",
    "y_pred_LASSO2 = lr_model_LASSO2.predict(X_test2)\n",
    "print('The accuracy score of LASSO model:',metrics.accuracy_score(y_test2, y_pred_LASSO2))"
   ]
  },
  {
   "cell_type": "markdown",
   "metadata": {},
   "source": [
    "# Problem 4 c"
   ]
  },
  {
   "cell_type": "code",
   "execution_count": 11,
   "metadata": {},
   "outputs": [
    {
     "name": "stdout",
     "output_type": "stream",
     "text": [
      "0.982872386174\n"
     ]
    }
   ],
   "source": [
    "#convert the feature matrix by log function\n",
    "X_log=np.zeros((X_message,X_word_id))\n",
    "for i in range(X_word_id): # every column of X_scaled\n",
    "    for j in range(X_message):\n",
    "        X_log[j][i] = math.log(X_frequency[j][i] + 1)\n",
    "\n",
    "# use train/test split with different random_state values\n",
    "X_train3, X_test3, y_train3, y_test3 = model_selection.train_test_split(X_log, y)\n",
    "# standard logistic regression\n",
    "lr_model_stand = linear_model.LogisticRegression(C=math.pow(10,40))\n",
    "scores_stand = model_selection.cross_val_score(lr_model_stand, X_train3, y_train3, cv=10, scoring='accuracy')\n",
    "print(scores_stand.mean())"
   ]
  },
  {
   "cell_type": "code",
   "execution_count": 12,
   "metadata": {},
   "outputs": [
    {
     "data": {
      "image/png": "[encoded data removed]",
      "text/plain": [
       "<matplotlib.figure.Figure at 0x1a5dfa465f8>"
      ]
     },
     "metadata": {},
     "output_type": "display_data"
    }
   ],
   "source": [
    "# 10-fold cross-validation with logistic regression in model ridge\n",
    "# search for an optimal value of lambda for l2\n",
    "lambda_range = np.logspace(-7, -1, 50)\n",
    "lambda_scores = []\n",
    "for regParam in lambda_range:\n",
    "    lr_model_ridge = linear_model.LogisticRegression(C=regParam)\n",
    "    scores_ridge = model_selection.cross_val_score(lr_model_ridge, X_train3, y_train3, cv=10, scoring='accuracy')\n",
    "    lambda_scores.append(scores_ridge.mean())\n",
    "\n",
    "# plot the value of lambda for ridge (x-axis) versus the cross-validated accuracy (y-axis)\n",
    "ax = plt.gca()\n",
    "ax.plot(lambda_range, lambda_scores)\n",
    "ax.set_xscale('log')\n",
    "plt.xlabel('Value of lambda for ridge')\n",
    "plt.ylabel('Cross-Validated Accuracy')\n",
    "plt.axis('tight')\n",
    "plt.show()"
   ]
  },
  {
   "cell_type": "code",
   "execution_count": 13,
   "metadata": {},
   "outputs": [
    {
     "data": {
      "image/png": "[encoded data removed]",
      "text/plain": [
       "<matplotlib.figure.Figure at 0x1a5df76f7f0>"
      ]
     },
     "metadata": {},
     "output_type": "display_data"
    }
   ],
   "source": [
    "# 10-fold cross-validation with logistic regression in model LASSO\n",
    "# search for an optimal value of lambda for l1\n",
    "lambda_range = np.logspace(-3, -0.1, 50)\n",
    "lambda_scores = []\n",
    "for regParam in lambda_range:\n",
    "    lrModel = linear_model.LogisticRegression(C=regParam,penalty='l1')\n",
    "    scores = model_selection.cross_val_score(lrModel, X_train3, y_train3, cv=10, scoring='accuracy')\n",
    "    lambda_scores.append(scores.mean())\n",
    "\n",
    "# plot the value of lambda for ridge (x-axis) versus the cross-validated accuracy (y-axis)\n",
    "ax = plt.gca()\n",
    "ax.plot(lambda_range, lambda_scores)\n",
    "ax.set_xscale('log')\n",
    "plt.xlabel('Value of lambda for LASSO')\n",
    "plt.ylabel('Cross-Validated Accuracy')\n",
    "plt.axis('tight')\n",
    "plt.show()"
   ]
  },
  {
   "cell_type": "markdown",
   "metadata": {},
   "source": [
    "C is the inverse of regularization strength. Since standard logistic regression does not have penalty, I choose a very big C to simulate no penalty. As we can see in the two graphs, ridge can choose C=10^(-1.9),LASSO can choose C=10^(-0.1) Next, we will use these C values in the three modles to validate the goodness, using the test set we left before."
   ]
  },
  {
   "cell_type": "code",
   "execution_count": 14,
   "metadata": {},
   "outputs": [
    {
     "name": "stdout",
     "output_type": "stream",
     "text": [
      "The accuracy score of standard model: 0.977142857143\n",
      "The accuracy score of ridge model: 0.982857142857\n",
      "The accuracy score of LASSO model: 0.977142857143\n"
     ]
    }
   ],
   "source": [
    "#use standard model ridge model and LASSO model by the C we choose\n",
    "lr_model_stand3 = linear_model.LogisticRegression(C=math.pow(10,40))\n",
    "lr_model_stand3.fit(X_train3, y_train3)\n",
    "y_pred_stand3 = lr_model_stand3.predict(X_test3)\n",
    "print('The accuracy score of standard model:',metrics.accuracy_score(y_test3, y_pred_stand3))\n",
    "\n",
    "lr_model_ridge3 = linear_model.LogisticRegression(C=math.pow(10,-1.9))\n",
    "lr_model_ridge3.fit(X_train3, y_train3)\n",
    "y_pred_ridge3 = lr_model_ridge3.predict(X_test3)\n",
    "print('The accuracy score of ridge model:',metrics.accuracy_score(y_test3, y_pred_ridge3))\n",
    "\n",
    "lr_model_LASSO3 = linear_model.LogisticRegression(C=math.pow(10,-0.1),penalty='l1')\n",
    "lr_model_LASSO3.fit(X_train3, y_train3)\n",
    "y_pred_LASSO3 = lr_model_LASSO3.predict(X_test3)\n",
    "print('The accuracy score of LASSO model:',metrics.accuracy_score(y_test3, y_pred_LASSO3))"
   ]
  },
  {
   "cell_type": "markdown",
   "metadata": {},
   "source": [
    "# Problem 4 d"
   ]
  },
  {
   "cell_type": "code",
   "execution_count": 15,
   "metadata": {},
   "outputs": [
    {
     "name": "stdout",
     "output_type": "stream",
     "text": [
      "In problem a:\n",
      "The AUC of standard model on the training set is: 0.953383162864\n",
      "and the standard model classification error rate is: 0.045714285714285714\n",
      "The AUC of ridge model on the training set is: 0.970954628901\n",
      "and the ridge model classification error rate is: 0.02857142857142857\n",
      "The AUC of LASSO model on the training set is: 0.964857067926\n",
      "and the LASSO model classification error rate is: 0.03428571428571429\n"
     ]
    }
   ],
   "source": [
    "print('In problem a:')\n",
    "\n",
    "fpr, tpr, thresholds = metrics.roc_curve(y_test, y_pred_stand)\n",
    "AUCtrain11 = metrics.auc(fpr, tpr)\n",
    "print('The AUC of standard model on the training set is:',AUCtrain11)\n",
    "#compute the classification error\n",
    "i=0\n",
    "class_error = 0\n",
    "for i in range(len(y_test)):\n",
    "    if(y_test[i]!=y_pred_stand[i]):\n",
    "        class_error=class_error+1\n",
    "Pclass_error11 = class_error/len(y_test)\n",
    "print('and the standard model classification error rate is:',Pclass_error11)\n",
    "\n",
    "fpr, tpr, thresholds = metrics.roc_curve(y_test, y_pred_ridge)\n",
    "AUCtrain12 = metrics.auc(fpr, tpr)\n",
    "print('The AUC of ridge model on the training set is:',AUCtrain12)\n",
    "#compute the classification error\n",
    "i=0\n",
    "class_error = 0\n",
    "for i in range(len(y_test)):\n",
    "    if(y_test[i]!=y_pred_ridge[i]):\n",
    "        class_error=class_error+1\n",
    "Pclass_error12 = class_error/len(y_test)\n",
    "print('and the ridge model classification error rate is:',Pclass_error12)\n",
    "\n",
    "fpr, tpr, thresholds = metrics.roc_curve(y_test, y_pred_LASSO)\n",
    "AUCtrain13 = metrics.auc(fpr, tpr)\n",
    "print('The AUC of LASSO model on the training set is:',AUCtrain13)\n",
    "#compute the classification error\n",
    "i=0\n",
    "class_error = 0\n",
    "for i in range(len(y_test)):\n",
    "    if(y_test[i]!=y_pred_LASSO[i]):\n",
    "        class_error=class_error+1\n",
    "Pclass_error13 = class_error/len(y_test)\n",
    "print('and the LASSO model classification error rate is:',Pclass_error13)"
   ]
  },
  {
   "cell_type": "code",
   "execution_count": 17,
   "metadata": {},
   "outputs": [
    {
     "name": "stdout",
     "output_type": "stream",
     "text": [
      "In problem b:\n",
      "The AUC of standard model on the training set is: 0.960164835165\n",
      "and the standard model classification error rate is: 0.04\n",
      "The AUC of ridge model on the training set is: 0.97619047619\n",
      "and the ridge model classification error rate is: 0.022857142857142857\n",
      "The AUC of LASSO model on the training set is: 0.976648351648\n",
      "and the LASSO model classification error rate is: 0.022857142857142857\n"
     ]
    }
   ],
   "source": [
    "print('In problem b:')\n",
    "\n",
    "fpr, tpr, thresholds = metrics.roc_curve(y_test2, y_pred_stand2)\n",
    "AUCtrain21 = metrics.auc(fpr, tpr)\n",
    "print('The AUC of standard model on the training set is:',AUCtrain21)\n",
    "#compute the classification error\n",
    "i=0\n",
    "class_error = 0\n",
    "for i in range(len(y_test2)):\n",
    "    if(y_test2[i]!=y_pred_stand2[i]):\n",
    "        class_error=class_error+1\n",
    "Pclass_error21 = class_error/len(y_test2)\n",
    "print('and the standard model classification error rate is:',Pclass_error21)\n",
    "\n",
    "fpr, tpr, thresholds = metrics.roc_curve(y_test2, y_pred_ridge2)\n",
    "AUCtrain22 = metrics.auc(fpr, tpr)\n",
    "print('The AUC of ridge model on the training set is:',AUCtrain22)\n",
    "#compute the classification error\n",
    "i=0\n",
    "class_error = 0\n",
    "for i in range(len(y_test2)):\n",
    "    if(y_test2[i]!=y_pred_ridge2[i]):\n",
    "        class_error=class_error+1\n",
    "Pclass_error22 = class_error/len(y_test2)\n",
    "print('and the ridge model classification error rate is:',Pclass_error22)\n",
    "\n",
    "fpr, tpr, thresholds = metrics.roc_curve(y_test2, y_pred_LASSO2)\n",
    "AUCtrain23 = metrics.auc(fpr, tpr)\n",
    "print('The AUC of LASSO model on the training set is:',AUCtrain23)\n",
    "#compute the classification error\n",
    "i=0\n",
    "class_error = 0\n",
    "for i in range(len(y_test2)):\n",
    "    if(y_test2[i]!=y_pred_LASSO2[i]):\n",
    "        class_error=class_error+1\n",
    "Pclass_error23 = class_error/len(y_test2)\n",
    "print('and the LASSO model classification error rate is:',Pclass_error23)"
   ]
  },
  {
   "cell_type": "code",
   "execution_count": 18,
   "metadata": {},
   "outputs": [
    {
     "name": "stdout",
     "output_type": "stream",
     "text": [
      "In problem b:\n",
      "The AUC of standard model on the training set is: 0.978045886076\n",
      "and the standard model classification error rate is: 0.022857142857142857\n",
      "The AUC of ridge model on the training set is: 0.982133438819\n",
      "and the ridge model classification error rate is: 0.017142857142857144\n",
      "The AUC of LASSO model on the training set is: 0.979166666667\n",
      "and the LASSO model classification error rate is: 0.022857142857142857\n"
     ]
    }
   ],
   "source": [
    "print('In problem b:')\n",
    "\n",
    "fpr, tpr, thresholds = metrics.roc_curve(y_test3, y_pred_stand3)\n",
    "AUCtrain31 = metrics.auc(fpr, tpr)\n",
    "print('The AUC of standard model on the training set is:',AUCtrain31)\n",
    "#compute the classification error\n",
    "i=0\n",
    "class_error = 0\n",
    "for i in range(len(y_test3)):\n",
    "    if(y_test3[i]!=y_pred_stand3[i]):\n",
    "        class_error=class_error+1\n",
    "Pclass_error31 = class_error/len(y_test3)\n",
    "print('and the standard model classification error rate is:',Pclass_error31)\n",
    "\n",
    "fpr, tpr, thresholds = metrics.roc_curve(y_test3, y_pred_ridge3)\n",
    "AUCtrain32 = metrics.auc(fpr, tpr)\n",
    "print('The AUC of ridge model on the training set is:',AUCtrain32)\n",
    "#compute the classification error\n",
    "i=0\n",
    "class_error = 0\n",
    "for i in range(len(y_test3)):\n",
    "    if(y_test3[i]!=y_pred_ridge3[i]):\n",
    "        class_error=class_error+1\n",
    "Pclass_error32 = class_error/len(y_test3)\n",
    "print('and the ridge model classification error rate is:',Pclass_error32)\n",
    "\n",
    "fpr, tpr, thresholds = metrics.roc_curve(y_test3, y_pred_LASSO3)\n",
    "AUCtrain33 = metrics.auc(fpr, tpr)\n",
    "print('The AUC of LASSO model on the training set is:',AUCtrain33)\n",
    "#compute the classification error\n",
    "i=0\n",
    "class_error = 0\n",
    "for i in range(len(y_test3)):\n",
    "    if(y_test3[i]!=y_pred_LASSO3[i]):\n",
    "        class_error=class_error+1\n",
    "Pclass_error33 = class_error/len(y_test3)\n",
    "print('and the LASSO model classification error rate is:',Pclass_error33)"
   ]
  },
  {
   "cell_type": "markdown",
   "metadata": {},
   "source": [
    "Generally, models in question c have the highest AUC and the lowest classification error. The differences come from the pre-processing. According to the AUC and classification error,I can choose the best model in each question. In question a, the ridge logistic regression is the best model. In question b,LASSO is the best model. In question c,ridge and LASSO are a little better than the standard."
   ]
  },
  {
   "cell_type": "code",
   "execution_count": 19,
   "metadata": {},
   "outputs": [
    {
     "data": {
      "text/html": [
       "<div>\n",
       "<style>\n",
       "    .dataframe thead tr:only-child th {\n",
       "        text-align: right;\n",
       "    }\n",
       "\n",
       "    .dataframe thead th {\n",
       "        text-align: left;\n",
       "    }\n",
       "\n",
       "    .dataframe tbody tr th {\n",
       "        vertical-align: top;\n",
       "    }\n",
       "</style>\n",
       "<table border=\"1\" class=\"dataframe\">\n",
       "  <thead>\n",
       "    <tr style=\"text-align: right;\">\n",
       "      <th></th>\n",
       "      <th>regulation</th>\n",
       "      <th>AUC-standard</th>\n",
       "      <th>error-standard</th>\n",
       "      <th>AUC-ridge</th>\n",
       "      <th>error-ridge</th>\n",
       "      <th>AUC-LASSO</th>\n",
       "      <th>error-LASSO</th>\n",
       "    </tr>\n",
       "  </thead>\n",
       "  <tbody>\n",
       "    <tr>\n",
       "      <th>0</th>\n",
       "      <td>a</td>\n",
       "      <td>0.953383</td>\n",
       "      <td>0.045714</td>\n",
       "      <td>0.970955</td>\n",
       "      <td>0.028571</td>\n",
       "      <td>0.964857</td>\n",
       "      <td>0.034286</td>\n",
       "    </tr>\n",
       "    <tr>\n",
       "      <th>1</th>\n",
       "      <td>b</td>\n",
       "      <td>0.960165</td>\n",
       "      <td>0.040000</td>\n",
       "      <td>0.976190</td>\n",
       "      <td>0.022857</td>\n",
       "      <td>0.976648</td>\n",
       "      <td>0.022857</td>\n",
       "    </tr>\n",
       "    <tr>\n",
       "      <th>2</th>\n",
       "      <td>c</td>\n",
       "      <td>0.978046</td>\n",
       "      <td>0.022857</td>\n",
       "      <td>0.979167</td>\n",
       "      <td>0.017143</td>\n",
       "      <td>0.979167</td>\n",
       "      <td>0.022857</td>\n",
       "    </tr>\n",
       "  </tbody>\n",
       "</table>\n",
       "</div>"
      ],
      "text/plain": [
       "  regulation  AUC-standard  error-standard  AUC-ridge  error-ridge  AUC-LASSO  \\\n",
       "0          a      0.953383        0.045714   0.970955     0.028571   0.964857   \n",
       "1          b      0.960165        0.040000   0.976190     0.022857   0.976648   \n",
       "2          c      0.978046        0.022857   0.979167     0.017143   0.979167   \n",
       "\n",
       "   error-LASSO  \n",
       "0     0.034286  \n",
       "1     0.022857  \n",
       "2     0.022857  "
      ]
     },
     "execution_count": 19,
     "metadata": {},
     "output_type": "execute_result"
    }
   ],
   "source": [
    "import pandas as pd\n",
    "\n",
    "AUC_table=[('regulation',['a','b','c']),\n",
    "           ('AUC-standard',[AUCtrain11,AUCtrain21,AUCtrain31]),\n",
    "           ('error-standard',[Pclass_error11,Pclass_error21,Pclass_error31]),\n",
    "           ('AUC-ridge',[AUCtrain12,AUCtrain22,AUCtrain33]),\n",
    "           ('error-ridge',[Pclass_error12,Pclass_error22,Pclass_error32]),\n",
    "           ( 'AUC-LASSO',[AUCtrain13,AUCtrain23,AUCtrain33]),\n",
    "           ('error-LASSO',[Pclass_error13,Pclass_error23,Pclass_error33]),]\n",
    "pd.DataFrame.from_items(AUC_table)"
   ]
  },
  {
   "cell_type": "code",
   "execution_count": null,
   "metadata": {
    "collapsed": true
   },
   "outputs": [],
   "source": []
  }
 ],
 "metadata": {
  "kernelspec": {
   "display_name": "Python 3",
   "language": "python",
   "name": "python3"
  },
  "language_info": {
   "codemirror_mode": {
    "name": "ipython",
    "version": 3
   },
   "file_extension": ".py",
   "mimetype": "text/x-python",
   "name": "python",
   "nbconvert_exporter": "python",
   "pygments_lexer": "ipython3",
   "version": "3.6.1"
  }
 },
 "nbformat": 4,
 "nbformat_minor": 2
}
