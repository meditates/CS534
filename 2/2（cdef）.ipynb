{
 "cells": [
  {
   "cell_type": "markdown",
   "metadata": {},
   "source": [
    "# Problem 2 c"
   ]
  },
  {
   "cell_type": "code",
   "execution_count": 18,
   "metadata": {},
   "outputs": [
    {
     "data": {
      "image/png": "[encoded data removed]",
      "text/plain": [
       "<matplotlib.figure.Figure at 0x20ee2aafd68>"
      ]
     },
     "metadata": {},
     "output_type": "display_data"
    },
    {
     "name": "stdout",
     "output_type": "stream",
     "text": [
      "[-0.14085269 -0.24602766] [ 1.59556872  3.70745841]\n",
      "[[ 2.56759483  1.15559678]\n",
      " [ 1.15559678  1.9501126 ]]\n",
      "[[ 0.6632873   0.132737  ]\n",
      " [ 0.132737    0.42030941]]\n"
     ]
    }
   ],
   "source": [
    "import numpy as np\n",
    "\n",
    "import matplotlib.pyplot as plt\n",
    "from matplotlib import colors\n",
    "\n",
    "from sklearn.discriminant_analysis import LinearDiscriminantAnalysis\n",
    "from sklearn.discriminant_analysis import QuadraticDiscriminantAnalysis\n",
    "\n",
    "%matplotlib inline\n",
    "\n",
    "#random generate C1, C2.\n",
    "mean_C1 = [0,0]\n",
    "cov_C1 = [[2,1],[1,2]]\n",
    "C1_train=np.random.multivariate_normal(mean_C1,cov_C1,(13))\n",
    "y1_train=[[0]]*13\n",
    "\n",
    "mean_C2 = [2,4]\n",
    "cov_C2 = [[2,1.5],[1.5,2]]\n",
    "C2_train=np.random.multivariate_normal(mean_C2,cov_C2,(7))\n",
    "y2_train=[[1]]*7\n",
    "\n",
    "X_train=np.vstack((C1_train,C2_train))\n",
    "y_train=np.vstack((y1_train,y2_train))\n",
    "\n",
    "C1_test=np.random.multivariate_normal(mean_C1,cov_C1,(6))\n",
    "C2_test=np.random.multivariate_normal(mean_C2,cov_C2,(4))\n",
    "X_test=np.vstack((C1_test,C2_test))\n",
    "y1_test=[[0]]*6\n",
    "y2_test=[[1]]*4\n",
    "y_test=np.vstack((y1_test,y2_test))\n",
    "\n",
    "plt.plot(C1_train[:,0], C1_train[:,1], 'x')\n",
    "plt.plot(C2_train[:,0], C2_train[:,1], 'x')\n",
    "plt.axis('equal')\n",
    "plt.show()\n",
    "\n",
    "mean_C1 = np.mean(C1_train,axis=0)\n",
    "mean_C2 = np.mean(C2_train,axis=0)\n",
    "co_C1 = np.cov(C1_train[:,0],C1_train[:,1])\n",
    "co_C2 = np.cov(C2_train[:,0],C2_train[:,1])\n",
    "P_C1 = 13/20\n",
    "P_C2 = 7/20\n",
    "\n",
    "\n",
    "print(mean_C1,mean_C2)\n",
    "print(co_C1)\n",
    "print(co_C2)"
   ]
  },
  {
   "cell_type": "code",
   "execution_count": 19,
   "metadata": {},
   "outputs": [
    {
     "name": "stdout",
     "output_type": "stream",
     "text": [
      "The optimal Bayes error rate is 0.0\n"
     ]
    }
   ],
   "source": [
    "#Bayes Optimal decision boundary\n",
    "#10*x1^2-22x1*x2+10x2^2 +48x1-120x2+192-21log(21/16)=0\n",
    "import math\n",
    "y_bayes_pred=[]\n",
    "j=0\n",
    "for i in range(10):\n",
    "    y=10 *(X_test[i,0])**2 - 22*X_test[i,0]*X_test[i,1] + 10 * (X_test[i,1])**2 + 48*X_test[i,0]-120*X_test[i,1]+192-21*math.log(21/16)\n",
    "    if(y>0):\n",
    "        y_bayes_pred.append([0])\n",
    "    else:\n",
    "        y_bayes_pred.append([1])\n",
    "    if(y_bayes_pred[i]!=y_test[i]):\n",
    "        j=j+1\n",
    "   \n",
    "    \n",
    "error_bayes=j/10\n",
    "print('The optimal Bayes error rate is',error_bayes)\n"
   ]
  },
  {
   "cell_type": "markdown",
   "metadata": {},
   "source": [
    "# problem 2 d LDA "
   ]
  },
  {
   "cell_type": "code",
   "execution_count": 20,
   "metadata": {},
   "outputs": [
    {
     "name": "stdout",
     "output_type": "stream",
     "text": [
      "The LDA error rate is: 0.3\n"
     ]
    }
   ],
   "source": [
    "import numpy.linalg as lg\n",
    "import math\n",
    "\n",
    "# LDA has the same covariance\n",
    "co_lda=np.cov(X_train[:,0],X_train[:,1])\n",
    "\n",
    "#discriminant functions : G1-lda,G2_lda\n",
    "def G1_lda(Xdata):\n",
    "    P1= np.dot(np.dot(Xdata ,lg.inv(co_lda)),np.mat(mean_C1).T)-0.5 * np.dot(np.dot( mean_C1 ,lg.inv(co_lda)),np.mat(mean_C1).T)  + math.log(0.6)\n",
    "    return P1\n",
    "def G2_lda(Xdata):\n",
    "    P2= np.dot(np.dot(Xdata ,lg.inv(co_lda)),np.mat(mean_C2).T)-0.5 * np.dot(np.dot( mean_C1 ,lg.inv(co_lda)),np.mat(mean_C2).T)  + math.log(0.4)\n",
    "    return P2\n",
    "\n",
    "i=0\n",
    "y_lda_pred=[]\n",
    "for i in range(10):\n",
    "    if (G1_lda(np.array(X_test[i:i+1])) > G2_lda(np.array(X_test[i:i+1]))):\n",
    "        y_lda_pred.append([0])\n",
    "    else:\n",
    "        y_lda_pred.append([1])\n",
    "\n",
    "i=0\n",
    "j=0\n",
    "for i in range(len(y_lda_pred)):\n",
    "    if (y_lda_pred[i]!=y_test[i]):\n",
    "        j=j+1\n",
    "error_lda=j/10\n",
    "print('The LDA error rate is:',error_lda)"
   ]
  },
  {
   "cell_type": "markdown",
   "metadata": {},
   "source": [
    "# Problem 2 e QDA"
   ]
  },
  {
   "cell_type": "code",
   "execution_count": 22,
   "metadata": {},
   "outputs": [
    {
     "name": "stdout",
     "output_type": "stream",
     "text": [
      "The QDA error rate is: 0.1\n"
     ]
    }
   ],
   "source": [
    "# QDA has different covariances\n",
    "\n",
    "#discriminant functions : G1-qda,G2_qda\n",
    "def G1_qda(Xdata):\n",
    "    P1= -0.5 *math.log(np.linalg.det(co_C1))-0.5 *np.dot(np.dot((Xdata-np.mat(mean_C1)),lg.inv(co_C1)),(Xdata-np.mat(mean_C1)).T)+math.log(0.6)\n",
    "    return P1\n",
    "\n",
    "def G2_qda(Xdata):\n",
    "    P2= -0.5 *math.log(np.linalg.det(co_C2))-0.5 *np.dot(np.dot((Xdata-np.mat(mean_C2)),lg.inv(co_C2)),(Xdata-np.mat(mean_C2)).T)+math.log(0.4)\n",
    "    return P2\n",
    "\n",
    "i=0\n",
    "y_qda_pred=[]\n",
    "for i in range(10):\n",
    "    if (G1_qda(np.array(X_test[i:i+1])) > G2_qda(np.array(X_test[i:i+1]))):\n",
    "        y_qda_pred.append([0])\n",
    "    else:\n",
    "        y_qda_pred.append([1])\n",
    "\n",
    "i=0\n",
    "j=0\n",
    "for i in range(len(y_qda_pred)):\n",
    "    if (y_qda_pred[i]!=y_test[i]):\n",
    "        j=j+1\n",
    "error_qda=j/10\n",
    "print('The QDA error rate is:',error_qda)"
   ]
  },
  {
   "cell_type": "markdown",
   "metadata": {},
   "source": [
    "# Problem 2 f"
   ]
  },
  {
   "cell_type": "code",
   "execution_count": 24,
   "metadata": {},
   "outputs": [
    {
     "data": {
      "image/png": "[encoded data removed]",
      "text/plain": [
       "<matplotlib.figure.Figure at 0x20ee4440a20>"
      ]
     },
     "metadata": {},
     "output_type": "display_data"
    }
   ],
   "source": [
    "#alfa is the regularizor\n",
    "\n",
    "\n",
    "def G1_regu(Xdata,j):\n",
    "    P1= -0.5 *math.log(np.linalg.det(co_C1_regu[j]))-0.5 *np.dot(np.dot((Xdata-np.mat(mean_C1)),lg.inv(co_C1_regu[j])),(Xdata-np.mat(mean_C1)).T)+math.log(0.6)\n",
    "    return P1\n",
    "\n",
    "def G2_regu(Xdata,j):\n",
    "    P2= -0.5 *math.log(np.linalg.det(co_C2_regu[j]))-0.5 *np.dot(np.dot((Xdata-np.mat(mean_C2)),lg.inv(co_C2_regu[j])),(Xdata-np.mat(mean_C2)).T)+math.log(0.4)\n",
    "    return P2\n",
    "\n",
    "alfa = np.arange(0,1,0.05)\n",
    "co_C1_regu = []\n",
    "co_C2_regu = []\n",
    "error_train = []\n",
    "error_test = []\n",
    "index = 0\n",
    "\n",
    "for a in alfa:\n",
    "    co_C1_regu.append( alfa[index] * co_C1 +(1-alfa[index])*co_lda)\n",
    "    co_C2_regu.append( alfa[index] * co_C1 +(1-alfa[index])*co_lda)\n",
    "\n",
    "\n",
    "    j=0\n",
    "    k=0\n",
    "    y_regu_pred_train=[]\n",
    "    y_regu_pred_test=[]\n",
    "    for i in range(20):\n",
    "        if (G1_regu(np.array(X_train[i:i+1]),index) > G2_regu(np.array(X_train[i:i+1]),index)):\n",
    "            y_regu_pred_train.append([0])\n",
    "        else:\n",
    "            y_regu_pred_train.append([1])\n",
    "        if (y_regu_pred_train[i]!=y_train[i]):\n",
    "            j=j+1                \n",
    "\n",
    "    for i in range(10):\n",
    "        if (G1_regu(np.array(X_test[i:i+1]),index) > G2_regu(np.array(X_test[i:i+1]),index)):\n",
    "            y_regu_pred_test.append([0])\n",
    "        else:\n",
    "            y_regu_pred_test.append([1])\n",
    "        if (y_regu_pred_test[i]!=y_test[i]):\n",
    "            k=k+1 \n",
    "\n",
    "    index=index+1\n",
    "    \n",
    "    error_train.append(j/20)\n",
    "    error_test.append(k/10)\n",
    "\n",
    "\n",
    "\n",
    "plt.plot(alfa, error_train,'g.',label='Train Data')\n",
    "plt.plot(alfa, error_test,'r.',label = 'Test Data')\n",
    "plt.legend()\n",
    "plt.xlabel('alpha')\n",
    "plt.ylabel('Misclassification rate')\n",
    "plt.title('Regularization Discriminant Analysis')\n",
    "plt.axis('tight')\n",
    "plt.show()\n",
    "\n",
    "#print(error_test)"
   ]
  },
  {
   "cell_type": "markdown",
   "metadata": {
    "collapsed": true
   },
   "source": [
    "When using the train data, the misclassification rate is always zero. It indicates that the if the model learns the data before, it can successfully do the classification. In contrast, when using the test data, the misclassification is a little higher when alpha is small but becomes lower as the alpha increase. If there are more data in the test set, we can see this trend more clearly. Since the covariances of dataset C1 and C2 are not the same, QDA is better in this case, when the regularized discriminant count for more QDA function weight, there is less error."
   ]
  },
  {
   "cell_type": "code",
   "execution_count": null,
   "metadata": {
    "collapsed": true
   },
   "outputs": [],
   "source": []
  },
  {
   "cell_type": "code",
   "execution_count": null,
   "metadata": {
    "collapsed": true
   },
   "outputs": [],
   "source": []
  }
 ],
 "metadata": {
  "kernelspec": {
   "display_name": "Python 3",
   "language": "python",
   "name": "python3"
  },
  "language_info": {
   "codemirror_mode": {
    "name": "ipython",
    "version": 3
   },
   "file_extension": ".py",
   "mimetype": "text/x-python",
   "name": "python",
   "nbconvert_exporter": "python",
   "pygments_lexer": "ipython3",
   "version": "3.6.1"
  }
 },
 "nbformat": 4,
 "nbformat_minor": 2
}
