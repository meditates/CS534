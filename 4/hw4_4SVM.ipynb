{
 "cells": [
  {
   "cell_type": "markdown",
   "metadata": {},
   "source": [
    "# problem 4 b"
   ]
  },
  {
   "cell_type": "code",
   "execution_count": 9,
   "metadata": {},
   "outputs": [],
   "source": [
    "import pandas as pd\n",
    "import numpy as np\n",
    "from numpy import *\n",
    "import matplotlib.pyplot as plt\n",
    "from sklearn import linear_model,metrics,preprocessing,model_selection\n",
    "import matplotlib.pyplot as plt\n",
    "\n",
    "import pydotplus\n",
    "import random\n",
    "import math\n",
    "from scipy.stats import mode\n",
    "from sklearn.metrics import accuracy_score\n",
    "from sklearn import svm\n",
    "\n",
    "data = pd.read_csv('allhyper.data')\n",
    "#data preprocess\n",
    "data['class'].replace(to_replace=['T3 toxic.','goitre.','negative.','hyperthyroid.'],value=[0,0,0,1],inplace=True)\n",
    "data['sex'].replace(to_replace=['F','M'],value=[0,1],inplace=True)\n",
    "data.replace(to_replace=['f','t'],value=[0,1],inplace=True)\n",
    "data['refSource'].replace(to_replace=['other','SVI','SVHC','STMW','SVHD'],value=[0,1,2,3,4],inplace=True)\n",
    "\n",
    "model_selection.train_test_split\n",
    "y = data[['class']]\n",
    "data.drop(['class','TBGInd','TBG'],axis=1,inplace=True)\n",
    "\n",
    "X=data\n",
    "X_train, X_test, y_train, y_test = model_selection.train_test_split(X, y,test_size=0.15,random_state=42 )\n",
    "values = {'sex': (X_train['sex'].mode()[0]),\n",
    "          'onThyroxine':(X_train['onThyroxine'].mode()[0]),\n",
    "           'queryOnThyroxine': (X_train['queryOnThyroxine'].mode()[0]),\n",
    "          'onAntithyroidMed': (X_train['onAntithyroidMed'].mode()[0]),\n",
    "          'sick': (X_train['sick'].mode()[0]),\n",
    "          'preg': (X_train['preg'].mode()[0]),\n",
    "          'thySurg': (X_train['thySurg'].mode()[0]),\n",
    "          'I131': (X_train['I131'].mode()[0]),\n",
    "          'queryHypothyroid': (X_train['queryHypothyroid'].mode()[0]),\n",
    "          'queryHyperthyroid': (X_train['queryHyperthyroid'].mode()[0]),\n",
    "          'lithium': (X_train['lithium'].mode()[0]),\n",
    "          'goitre': (X_train['goitre'].mode()[0]),\n",
    "          'tumor': (X_train['tumor'].mode()[0]),\n",
    "          'hypopituitary': (X_train['hypopituitary'].mode()[0]),\n",
    "          'psych': (X_train['psych'].mode()[0]),\n",
    "          'TSHInd': (X_train['TSHInd'].mode()[0]),\n",
    "          'T3Ind': (X_train['T3Ind'].mode()[0]),\n",
    "           'TT4Ind': (X_train['TT4Ind'].mode()[0]),\n",
    "           'T4UInd': (X_train['T4UInd'].mode()[0]),\n",
    "           'FTIInd': (X_train['FTIInd'].mode()[0]),\n",
    "            'refSource': (X_train['refSource'].mode()[0]),\n",
    "            'age':(nanmean(X_train['age'])),\n",
    "            'TSH':(nanmean(X_train['TSH'])),\n",
    "            'T3':(nanmean(X_train['T3'])),\n",
    "            'TT4':(nanmean(X_train['TT4'])),\n",
    "          'T4U':(nanmean(X_train['T4U'])),\n",
    "          'FTI':(nanmean(X_train['FTI'])),\n",
    "         }\n",
    "                     \n",
    "X_train=X_train.fillna(value=values)\n",
    "X_test=X_test.fillna(value=values)\n",
    "\n",
    "#preprocessing: scalability\n",
    "X_train[['age','TSH','T3','TT4','T4U','FTI']]=preprocessing.scale(X_train[['age','TSH','T3','TT4','T4U','FTI']])\n",
    "X_test[['age','TSH','T3','TT4','T4U','FTI']]=preprocessing.scale(X_test[['age','TSH','T3','TT4','T4U','FTI']])\n",
    "\n",
    "X_train=np.array(X_train)\n",
    "X_test=np.array(X_test)\n",
    "\n",
    "y_train=(np.array(y_train))[:,0]\n",
    "y_test=(np.array(y_test))[:,0]\n",
    "\n"
   ]
  },
  {
   "cell_type": "markdown",
   "metadata": {},
   "source": [
    "# problem 4 c"
   ]
  },
  {
   "cell_type": "code",
   "execution_count": 57,
   "metadata": {
    "scrolled": true
   },
   "outputs": [
    {
     "name": "stdout",
     "output_type": "stream",
     "text": [
      "[0.79012434933487563, 0.7931409405867611, 0.7931409405867611, 0.79627377266696153, 0.79627377266696153, 0.79627377266696153, 0.81593371798480141, 0.79609478241057174, 0.79895192526771464, 0.81295752750861094, 0.81295752750861094, 0.81593371798480141, 0.83214789596368521, 0.82917170548749475, 0.82917170548749475, 0.82584442176093731, 0.82882061223712766, 0.82882061223712766, 0.82560611778943627, 0.81119509022051395]\n",
      "102.453385939\n"
     ]
    }
   ],
   "source": [
    "ftwo_scorer= metrics.make_scorer(metrics.fbeta_score, beta=2)\n",
    "c_range=np.logspace(1, 2.6, 20)\n",
    "Ftwo_line=[]\n",
    "for i in c_range:\n",
    "    clf = svm.SVC(C=i,kernel='linear')\n",
    "    \n",
    "    Ftwo = model_selection.cross_val_score(clf, X_train, y_train, cv=5, scoring=ftwo_scorer)\n",
    "    Ftwo_line.append(Ftwo.mean())\n",
    "c = c_range[Ftwo_line.index(max(Ftwo_line))]\n",
    "print(Ftwo_line)\n",
    "print(c)"
   ]
  },
  {
   "cell_type": "code",
   "execution_count": 104,
   "metadata": {},
   "outputs": [
    {
     "name": "stdout",
     "output_type": "stream",
     "text": [
      "error_line_train 0.00504201680672\n",
      "Fone_line_train: 0.888888888889\n",
      "Ftwo_line_train: 0.898876404494\n",
      "error_line_test 0.0214285714286\n",
      "Fone_line_test: 0.526315789474\n",
      "Ftwo_line_test: 0.54347826087\n"
     ]
    }
   ],
   "source": [
    "clf = svm.SVC(C=102.453385939,kernel='linear')\n",
    "clf.fit(X_train, y_train)\n",
    "y_pred_train = clf.predict(X_train)\n",
    "error_line_train=1-accuracy_score(y_train, y_pred_train)\n",
    "Fone_line_train=metrics.fbeta_score(y_train, y_pred_train,beta=1)\n",
    "Ftwo_line_train=metrics.fbeta_score(y_train, y_pred_train,beta=2)\n",
    "print('error_line_train',error_line_train)\n",
    "print('Fone_line_train:',Fone_line_train)\n",
    "print('Ftwo_line_train:',Ftwo_line_train)\n",
    "\n",
    "y_pred_test = clf.predict(X_test)\n",
    "error_line_test=1-accuracy_score(y_test, y_pred_test)\n",
    "Fone_line_test=metrics.fbeta_score(y_test, y_pred_test,beta=1)\n",
    "Ftwo_line_test=metrics.fbeta_score(y_test, y_pred_test,beta=2)\n",
    "print('error_line_test',error_line_test)\n",
    "print('Fone_line_test:',Fone_line_test)\n",
    "print('Ftwo_line_test:',Ftwo_line_test)\n"
   ]
  },
  {
   "cell_type": "markdown",
   "metadata": {},
   "source": [
    "# problem 4 d"
   ]
  },
  {
   "cell_type": "code",
   "execution_count": 80,
   "metadata": {},
   "outputs": [
    {
     "name": "stdout",
     "output_type": "stream",
     "text": [
      "the best c is: 853.167852417\n",
      "the best degree is: 2\n"
     ]
    }
   ],
   "source": [
    "c_range=np.logspace(2, 3, 30)\n",
    "d_range=np.arange(1,7)\n",
    "Ftwo_poly=np.zeros((30,6))\n",
    "i=0\n",
    "for c in c_range:\n",
    "    for d in d_range:\n",
    "        clf = svm.SVC(C=c,kernel='poly',degree=d)\n",
    "        Ftwo = model_selection.cross_val_score(clf, X_train, y_train, cv=5, scoring=ftwo_scorer)\n",
    "        Ftwo_poly[i][d-1]=Ftwo.mean()\n",
    "    i=i+1\n",
    "re=np.where(Ftwo_poly==np.max(Ftwo_poly))\n",
    "i=re[0][0]\n",
    "c=c_range[i]\n",
    "index2=re[1][0]+1\n",
    "d=d_range[index2]\n",
    "print('the best c is:',c)\n",
    "print('the best degree is:',d)"
   ]
  },
  {
   "cell_type": "code",
   "execution_count": 103,
   "metadata": {},
   "outputs": [
    {
     "name": "stdout",
     "output_type": "stream",
     "text": [
      "error_poly_train 0.00336134453782\n",
      "Fone_poly_train: 0.923076923077\n",
      "Ftwo_poly_train: 0.912547528517\n",
      "error_poly_test 0.0190476190476\n",
      "Fone_poly_test: 0.6\n",
      "Ftwo_poly_test: 0.63829787234\n"
     ]
    }
   ],
   "source": [
    "clf = svm.SVC(C=853.167852417,kernel='poly',degree=2)\n",
    "clf.fit(X_train, y_train)\n",
    "y_pred_train = clf.predict(X_train)\n",
    "error_poly_train=1-accuracy_score(y_train, y_pred_train)\n",
    "Fone_poly_train=metrics.fbeta_score(y_train, y_pred_train,beta=1)\n",
    "Ftwo_poly_train=metrics.fbeta_score(y_train, y_pred_train,beta=2)\n",
    "print('error_poly_train',error_poly_train)\n",
    "print('Fone_poly_train:',Fone_poly_train)\n",
    "print('Ftwo_poly_train:',Ftwo_poly_train)\n",
    "\n",
    "y_pred_test = clf.predict(X_test)\n",
    "error_poly_test=1-accuracy_score(y_test, y_pred_test)\n",
    "Fone_poly_test=metrics.fbeta_score(y_test, y_pred_test,beta=1)\n",
    "Ftwo_poly_test=metrics.fbeta_score(y_test, y_pred_test,beta=2)\n",
    "print('error_poly_test',error_poly_test)\n",
    "print('Fone_poly_test:',Fone_poly_test)\n",
    "print('Ftwo_poly_test:',Ftwo_poly_test)"
   ]
  },
  {
   "cell_type": "markdown",
   "metadata": {},
   "source": [
    "# problem 4 e"
   ]
  },
  {
   "cell_type": "code",
   "execution_count": 77,
   "metadata": {},
   "outputs": [
    {
     "name": "stdout",
     "output_type": "stream",
     "text": [
      "the best c is: 621.016941892\n",
      "the best degree is: 0.00210001415571\n"
     ]
    }
   ],
   "source": [
    "c_range=np.logspace(1, 3, 30)\n",
    "r_range=np.logspace(-3, -0.1, 10)\n",
    "Ftwo_rbf=np.zeros((30,10))\n",
    "i=0\n",
    "for c in c_range:\n",
    "    j=0\n",
    "    for r in r_range:\n",
    "        clf = svm.SVC(C=c,kernel='rbf',gamma=r)\n",
    "        Ftwo = model_selection.cross_val_score(clf, X_train, y_train, cv=5, scoring=ftwo_scorer)\n",
    "        Ftwo_rbf[i][j]=Ftwo.mean()\n",
    "        j+=1\n",
    "    i=i+1\n",
    "re=np.where(Ftwo_rbf==np.max(Ftwo_rbf))\n",
    "i=re[0][0]\n",
    "c=c_range[i]\n",
    "j=re[1][0]\n",
    "r=r_range[index2]\n",
    "print('the best c is:',c)\n",
    "print('the best degree is:',r)"
   ]
  },
  {
   "cell_type": "code",
   "execution_count": 102,
   "metadata": {},
   "outputs": [
    {
     "name": "stdout",
     "output_type": "stream",
     "text": [
      "error_rbf_train 0.00588235294118\n",
      "Fone_rbf_train: 0.86\n",
      "Ftwo_rbf_train: 0.830115830116\n",
      "error_rbf_test 0.0190476190476\n",
      "Fone_rbf_test: 0.555555555556\n",
      "Ftwo_rbf_test: 0.555555555556\n"
     ]
    }
   ],
   "source": [
    "clf = svm.SVC(C=621.016941892,kernel='rbf',gamma=0.00210001415571)\n",
    "clf.fit(X_train, y_train)\n",
    "y_pred_train = clf.predict(X_train)\n",
    "error_rbf_train=1-accuracy_score(y_train, y_pred_train)\n",
    "Fone_rbf_train=metrics.fbeta_score(y_train, y_pred_train,beta=1)\n",
    "Ftwo_rbf_train=metrics.fbeta_score(y_train, y_pred_train,beta=2)\n",
    "print('error_rbf_train',error_rbf_train)\n",
    "print('Fone_rbf_train:',Fone_rbf_train)\n",
    "print('Ftwo_rbf_train:',Ftwo_rbf_train)\n",
    "\n",
    "y_pred_test = clf.predict(X_test)\n",
    "error_rbf_test=1-accuracy_score(y_test, y_pred_test)\n",
    "Fone_rbf_test=metrics.fbeta_score(y_test, y_pred_test,beta=1)\n",
    "Ftwo_rbf_test=metrics.fbeta_score(y_test, y_pred_test,beta=2)\n",
    "print('error_rbf_test',error_rbf_test)\n",
    "print('Fone_rbf_test:',Fone_rbf_test)\n",
    "print('Ftwo_rbf_test:',Ftwo_rbf_test)"
   ]
  },
  {
   "cell_type": "markdown",
   "metadata": {},
   "source": [
    "# problem 4 f"
   ]
  },
  {
   "cell_type": "code",
   "execution_count": 109,
   "metadata": {},
   "outputs": [
    {
     "name": "stdout",
     "output_type": "stream",
     "text": [
      "evaluation report:\n"
     ]
    },
    {
     "data": {
      "text/html": [
       "<div>\n",
       "<style>\n",
       "    .dataframe thead tr:only-child th {\n",
       "        text-align: right;\n",
       "    }\n",
       "\n",
       "    .dataframe thead th {\n",
       "        text-align: left;\n",
       "    }\n",
       "\n",
       "    .dataframe tbody tr th {\n",
       "        vertical-align: top;\n",
       "    }\n",
       "</style>\n",
       "<table border=\"1\" class=\"dataframe\">\n",
       "  <thead>\n",
       "    <tr style=\"text-align: right;\">\n",
       "      <th></th>\n",
       "      <th>evaluation</th>\n",
       "      <th>Linear SVM train</th>\n",
       "      <th>Linera SVM test</th>\n",
       "      <th>SVM polynomial train</th>\n",
       "      <th>SVM polynomial test</th>\n",
       "      <th>SVM RBF train</th>\n",
       "      <th>SVM RBF train</th>\n",
       "    </tr>\n",
       "  </thead>\n",
       "  <tbody>\n",
       "    <tr>\n",
       "      <th>0</th>\n",
       "      <td>misclassification</td>\n",
       "      <td>0.005042</td>\n",
       "      <td>0.021429</td>\n",
       "      <td>0.003361</td>\n",
       "      <td>0.019048</td>\n",
       "      <td>0.005882</td>\n",
       "      <td>0.019048</td>\n",
       "    </tr>\n",
       "    <tr>\n",
       "      <th>1</th>\n",
       "      <td>F1 score</td>\n",
       "      <td>0.888889</td>\n",
       "      <td>0.526316</td>\n",
       "      <td>0.923077</td>\n",
       "      <td>0.600000</td>\n",
       "      <td>0.860000</td>\n",
       "      <td>0.555556</td>\n",
       "    </tr>\n",
       "    <tr>\n",
       "      <th>2</th>\n",
       "      <td>F2 score</td>\n",
       "      <td>0.898876</td>\n",
       "      <td>0.543478</td>\n",
       "      <td>0.912548</td>\n",
       "      <td>0.638298</td>\n",
       "      <td>0.830116</td>\n",
       "      <td>0.555556</td>\n",
       "    </tr>\n",
       "  </tbody>\n",
       "</table>\n",
       "</div>"
      ],
      "text/plain": [
       "          evaluation  Linear SVM train  Linera SVM test  SVM polynomial train  \\\n",
       "0  misclassification          0.005042         0.021429              0.003361   \n",
       "1           F1 score          0.888889         0.526316              0.923077   \n",
       "2           F2 score          0.898876         0.543478              0.912548   \n",
       "\n",
       "   SVM polynomial test  SVM RBF train  SVM RBF train  \n",
       "0             0.019048       0.005882       0.019048  \n",
       "1             0.600000       0.860000       0.555556  \n",
       "2             0.638298       0.830116       0.555556  "
      ]
     },
     "execution_count": 109,
     "metadata": {},
     "output_type": "execute_result"
    }
   ],
   "source": [
    "print('evaluation report:')\n",
    "\n",
    "evaluation_table=[('evaluation',['misclassification','F1 score','F2 score']),\n",
    "           ('Linear SVM train',[error_line_train,Fone_line_train,Ftwo_line_train]),\n",
    "           ('Linera SVM test',[error_line_test,Fone_line_test,Ftwo_line_test]),\n",
    "           ('SVM polynomial train',[error_poly_train,Fone_poly_train,Ftwo_poly_train]),\n",
    "           ('SVM polynomial test',[error_poly_test,Fone_poly_test,Ftwo_poly_test]),\n",
    "           ( 'SVM RBF train',[error_rbf_train,Fone_rbf_train,Ftwo_rbf_train]),\n",
    "           ('SVM RBF train',[error_rbf_test,Fone_rbf_test,Ftwo_rbf_test]),]\n",
    "pd.DataFrame.from_items(evaluation_table)"
   ]
  },
  {
   "cell_type": "code",
   "execution_count": null,
   "metadata": {
    "collapsed": true
   },
   "outputs": [],
   "source": []
  }
 ],
 "metadata": {
  "kernelspec": {
   "display_name": "Python 3",
   "language": "python",
   "name": "python3"
  },
  "language_info": {
   "codemirror_mode": {
    "name": "ipython",
    "version": 3
   },
   "file_extension": ".py",
   "mimetype": "text/x-python",
   "name": "python",
   "nbconvert_exporter": "python",
   "pygments_lexer": "ipython3",
   "version": "3.6.1"
  }
 },
 "nbformat": 4,
 "nbformat_minor": 2
}
