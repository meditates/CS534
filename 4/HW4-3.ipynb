{
 "cells": [
  {
   "cell_type": "markdown",
   "metadata": {},
   "source": [
    "# Problem 3 a"
   ]
  },
  {
   "cell_type": "code",
   "execution_count": 1,
   "metadata": {
    "collapsed": true
   },
   "outputs": [],
   "source": [
    "import pandas as pd\n",
    "from sklearn import datasets\n",
    "from sklearn import model_selection\n",
    "from sklearn import linear_model\n",
    "from sklearn import metrics\n",
    "import numpy as np\n",
    "import collections\n",
    "from sklearn import preprocessing\n",
    "import math\n",
    "\n",
    "import matplotlib.pyplot as plt\n",
    "from sklearn.metrics import accuracy_score\n",
    "from sklearn.model_selection import StratifiedKFold\n",
    "\n",
    "data = pd.read_csv('spamAssassin.data',header=None,index_col=False)\n",
    "P=np.array(data)\n",
    "y=[]\n",
    "\n",
    "for i in range(len(P)):\n",
    "    if (P[i][0][0]=='0'):\n",
    "        y.append(-1)\n",
    "    else:\n",
    "        y.append(1)\n",
    "X_train, X_test, y_train, y_test = model_selection.train_test_split(P, y,test_size=0.3,random_state=1 )"
   ]
  },
  {
   "cell_type": "markdown",
   "metadata": {},
   "source": [
    "# Problem 3 b"
   ]
  },
  {
   "cell_type": "code",
   "execution_count": 2,
   "metadata": {
    "collapsed": true
   },
   "outputs": [],
   "source": [
    "\n",
    "\n",
    "counts_all=[]\n",
    "counts_sum=dict()          #this is the vocabulary list\n",
    "for i in range(len(y_train)):\n",
    "    items = X_train[i][0].split(' ')\n",
    "    counts_oneline = dict()   \n",
    "    for j in items:\n",
    "        counts_sum[j] = counts_sum.get(j, 0) + 1\n",
    "        counts_oneline[j] = counts_oneline.get(j, 0) + 1\n",
    "    counts_all.append(counts_oneline)\n",
    "\n",
    "#a=sorted([(counter,word) for word,counter in counts_sum.items()],reverse=True) \n",
    "\n",
    "# if total smaller than 30,delete. also delete the keys of 1 and 0\n",
    "for word,counter in counts_sum.copy().items():\n",
    "    if (counter<30):\n",
    "        counts_sum.pop(word)              \n",
    "    if (word=='1'):\n",
    "        counts_sum.pop(word)\n",
    "    if (word=='0'):\n",
    "        counts_sum.pop(word)\n",
    "# appear fewer than 30 emails, delete\n",
    "for word,counter in counts_sum.copy().items():\n",
    "    n=0\n",
    "    for i in range(len(y_train)):\n",
    "        if word in counts_all[i].keys():\n",
    "            n=n+1\n",
    "    if (n<30):\n",
    "        counts_sum.pop(word)                \n",
    "\n",
    "#transform train data:each letter to a feature table        \n",
    "X=[]\n",
    "Xlenth=len(counts_sum)\n",
    "for i in range(len(y_train)):\n",
    "    a=np.zeros((Xlenth))\n",
    "    j=0\n",
    "    for word in counts_sum.keys():\n",
    "        \n",
    "        if word in counts_all[i].keys():\n",
    "            a[j]=1\n",
    "        j=j+1    \n",
    "    X.append(a) \n",
    "    \n",
    "#transform test data:each letter to a feature table      \n",
    "Xtest=[]\n",
    "for i in range(len(y_test)):\n",
    "    a=np.zeros((Xlenth))\n",
    "    j=0\n",
    "    items = X_test[i][0].split(' ')\n",
    "    counts_oneline = dict()\n",
    "    for n in items:\n",
    "        counts_oneline[n] = counts_oneline.get(n, 0) + 1\n",
    "    for word in counts_sum.keys():\n",
    "\n",
    "        if word in counts_oneline.keys():\n",
    "            a[j]=1\n",
    "        j=j+1\n",
    "    \n",
    "    Xtest.append(a)\n",
    "\n"
   ]
  },
  {
   "cell_type": "markdown",
   "metadata": {},
   "source": [
    "# problem 3 c"
   ]
  },
  {
   "cell_type": "code",
   "execution_count": 3,
   "metadata": {
    "collapsed": true
   },
   "outputs": [],
   "source": [
    "\n",
    "def classification_vector(Xarray,yarray,epoch):\n",
    "    w=np.zeros(len(Xarray[0]))   #Xlenth\n",
    "    y_hat=np.ones(len(yarray))\n",
    "    mistake=0\n",
    "    epoch_number=epoch\n",
    "    for n in range(epoch):\n",
    "        for i in range(len(yarray)):\n",
    "            y_hat[i]=np.sign(np.dot(Xarray[i],w))\n",
    "            if (y_hat[i]==0):\n",
    "                y_hat[i]=1\n",
    "            \n",
    "            if (y_hat[i] > 0):\n",
    "                if (yarray[i]==-1):\n",
    "                    w = list(map(lambda x,y: x-y, w,Xarray[i]))\n",
    "                    mistake+=1\n",
    "            if (y_hat[i] < 0):\n",
    "                if (yarray[i]==1):\n",
    "                    w = list(map(lambda x,y: x+y, w,Xarray[i]))\n",
    "                    mistake+=1\n",
    "        if(accuracy_score(yarray, y_hat)==1):\n",
    "            epoch_number=n\n",
    "            break\n",
    "\n",
    "    return w, epoch_number,mistake\n",
    "\n",
    "def test_error(vector,Xarray,yarray):\n",
    "    y_hat=np.sign(np.dot(Xarray,vector))\n",
    "    for i in range(len(yarray)):    \n",
    "        if (y_hat[i]==0):\n",
    "            y_hat[i]=1\n",
    "    error=1-accuracy_score(yarray, y_hat)\n",
    "    return error"
   ]
  },
  {
   "cell_type": "markdown",
   "metadata": {},
   "source": [
    "# problem 3 d"
   ]
  },
  {
   "cell_type": "code",
   "execution_count": 4,
   "metadata": {},
   "outputs": [
    {
     "name": "stdout",
     "output_type": "stream",
     "text": [
      "the epochs number is 21\n",
      "The number of mistakes made before algorithms terminate is 423\n",
      "the train error is 0.0\n",
      "the test error is 0.0194444444444\n"
     ]
    }
   ],
   "source": [
    "w,epochs,mistake=classification_vector(X,y_train,23)\n",
    "print('the epochs number is',epochs)\n",
    "print('The number of mistakes made before algorithms terminate is',mistake)\n",
    "error_train=test_error(w,X,y_train)\n",
    "error_test=test_error(w,Xtest,y_test)\n",
    "\n",
    "print('the train error is',error_train)\n",
    "print('the test error is',error_test)"
   ]
  },
  {
   "cell_type": "markdown",
   "metadata": {},
   "source": [
    "# problem 3 e"
   ]
  },
  {
   "cell_type": "code",
   "execution_count": 5,
   "metadata": {
    "collapsed": true
   },
   "outputs": [],
   "source": [
    "def average_vector(Xarray,yarray,epoch):\n",
    "    w_list=[]\n",
    "    w=np.zeros(len(Xarray[0]))   #Xlenth\n",
    "    y_hat=np.ones(len(yarray))\n",
    "    \n",
    "    epoch_number=epoch\n",
    "    for n in range(epoch):\n",
    "        for i in range(len(yarray)):\n",
    "            y_hat[i]=np.sign(np.dot(Xarray[i],w))\n",
    "            if (y_hat[i]==0):\n",
    "                y_hat[i]=1\n",
    "            \n",
    "            if (y_hat[i] > 0):\n",
    "                if (yarray[i]==-1):\n",
    "                    w = list(map(lambda x,y: x-y, w,Xarray[i]))\n",
    "                    \n",
    "                    w_list.append(w)\n",
    "            if (y_hat[i] < 0):\n",
    "                if (yarray[i]==1):\n",
    "                    w = list(map(lambda x,y: x+y, w,Xarray[i]))\n",
    "                    \n",
    "                    w_list.append(w)\n",
    "        if(accuracy_score(yarray, y_hat)==1):\n",
    "            epoch_number=n\n",
    "            break\n",
    "    w=np.mean(w_list,axis=0)\n",
    "\n",
    "    return w, epoch_number"
   ]
  },
  {
   "cell_type": "markdown",
   "metadata": {},
   "source": [
    "# problem 3 f"
   ]
  },
  {
   "cell_type": "code",
   "execution_count": 6,
   "metadata": {},
   "outputs": [
    {
     "name": "stdout",
     "output_type": "stream",
     "text": [
      "the epochs number is 21\n",
      "the train error is 0.00285714285714\n",
      "the test error is 0.0177777777778\n"
     ]
    }
   ],
   "source": [
    "w,epochs=average_vector(X,y_train,23)\n",
    "\n",
    "\n",
    "print('the epochs number is',epochs)\n",
    "\n",
    "error_train=test_error(w,X,y_train)\n",
    "error_test=test_error(w,Xtest,y_test)\n",
    "\n",
    "print('the train error is',error_train)\n",
    "print('the test error is',error_test)\n"
   ]
  },
  {
   "cell_type": "code",
   "execution_count": 8,
   "metadata": {},
   "outputs": [
    {
     "data": {
      "image/png": "[encoded data removed]",
      "text/plain": [
       "<matplotlib.figure.Figure at 0x28ae7b7b518>"
      ]
     },
     "metadata": {},
     "output_type": "display_data"
    }
   ],
   "source": [
    "maxepochs=np.arange(23)\n",
    "e_train_class=[]\n",
    "e_test_class=[]\n",
    "e_train_average=[]\n",
    "e_test_average=[]\n",
    "for i in maxepochs:\n",
    "    w_class,k,mistake=classification_vector(X,y_train,i+1)\n",
    "    error_trainc=test_error(w_class,X,y_train)\n",
    "    error_testc=test_error(w_class,Xtest,y_test)\n",
    "    e_train_class.append(error_trainc)\n",
    "    e_test_class.append(error_testc)\n",
    "    \n",
    "    w_av,k=average_vector(X,y_train,i+1)\n",
    "    error_traina=test_error(w_av,X,y_train)\n",
    "    error_testa=test_error(w_av,Xtest,y_test)\n",
    "    e_train_average.append(error_traina)\n",
    "    e_test_average.append(error_testa)  \n",
    "    \n",
    "plt.plot(maxepochs, e_train_class,label='e_train_class')\n",
    "plt.plot(maxepochs, e_test_class,label='e_test_class')\n",
    "plt.plot(maxepochs, e_train_average,label='e_train_average')\n",
    "plt.plot(maxepochs, e_test_average,label='e_test_average')\n",
    "plt.legend()\n",
    "plt.xlabel('maxepochs')\n",
    "plt.ylabel('error')\n",
    "plt.title('Find the optimal algorithm and parameters')\n",
    "plt.axis('tight')\n",
    "plt.show()"
   ]
  },
  {
   "cell_type": "markdown",
   "metadata": {},
   "source": [
    "# problem 3 g"
   ]
  },
  {
   "cell_type": "code",
   "execution_count": 22,
   "metadata": {
    "scrolled": true
   },
   "outputs": [
    {
     "name": "stdout",
     "output_type": "stream",
     "text": [
      "the best parameter w is [-6.5959596   2.73939394 -1.57575758 ...,  0.20808081  0.          2.5979798 ]\n",
      "the expected predictive error of this algorithm is 0.0045\n"
     ]
    }
   ],
   "source": [
    "\n",
    "Xall=np.vstack((X,Xtest))\n",
    "yall=np.array(y_train+y_test)\n",
    "\n",
    "skf = StratifiedKFold(n_splits=5)\n",
    "error=[]\n",
    "w_list=[]\n",
    "for train, test in skf.split(Xall,yall):\n",
    "    X_trainl, X_testl = Xall[train], Xall[test]\n",
    "    y_trainl, y_testl = yall[train], yall[test]\n",
    "    w_one,epochs=average_vector(X_trainl,y_trainl,21)\n",
    "    error.append(test_error(w_one,X_testl,y_testl))\n",
    "    w_list.append(w_one)\n",
    "    \n",
    "error_sort=np.argsort(error)\n",
    "index=error_sort[0]\n",
    "w_op=w_list[index]\n",
    "print('the best parameter w is',w_op)\n",
    "error_all=test_error(w_op,Xall,yall)\n",
    "print('the expected predictive error of this algorithm is',error_all)"
   ]
  },
  {
   "cell_type": "markdown",
   "metadata": {},
   "source": [
    "# problem 3 h"
   ]
  },
  {
   "cell_type": "code",
   "execution_count": 24,
   "metadata": {},
   "outputs": [
    {
     "name": "stdout",
     "output_type": "stream",
     "text": [
      "the most positive words are: ['your', 'busi', 'these', 'our', 'remov', 'click', 'deathtospamdeathtospamdeathtospam', 'sight', 'am', 'guarante', 'hour', 'market', 'monei', 'internet', 'opportun']\n",
      "the most negative words are: ['messag', 're', 'i', 'file', 'chang', 'tuesdai', 'wrote', 'those', 'set', 'copyright', 'still', 'prefer', 'version', 'sai', 'announc']\n"
     ]
    }
   ],
   "source": [
    "w_sort=np.argsort(w_op)\n",
    "index_positive=w_sort[-15:]\n",
    "index_negative=w_sort[0:15]\n",
    "\n",
    "i=0\n",
    "positive=[]\n",
    "negative=[]\n",
    "for word in counts_sum.keys():\n",
    "    if i in index_positive:\n",
    "        positive.append(word)\n",
    "    if i in index_negative:\n",
    "        negative.append(word)\n",
    "    \n",
    "    i+=1\n",
    "print('the most positive words are:',positive)\n",
    "print('the most negative words are:',negative)    "
   ]
  },
  {
   "cell_type": "code",
   "execution_count": 39,
   "metadata": {},
   "outputs": [
    {
     "data": {
      "image/png": "[encoded data removed]",
      "text/plain": [
       "<matplotlib.figure.Figure at 0x28a8040fcc0>"
      ]
     },
     "metadata": {},
     "output_type": "display_data"
    }
   ],
   "source": [
    "plt.rcdefaults()\n",
    "fig, ax = plt.subplots()\n",
    "\n",
    "words = positive + negative\n",
    "y_pos = np.arange(len(words))\n",
    "performance = np.concatenate((w_op[index_positive],w_op[index_negative]))\n",
    "colors = []\n",
    "for i in range(15): \n",
    "    colors.append('r')\n",
    "for i in range(15):\n",
    "    colors.append('b')\n",
    "\n",
    "ax.barh(y_pos,performance,align='center',color=colors)\n",
    "ax.set_yticks(y_pos)\n",
    "ax.set_yticklabels(words)\n",
    "ax.invert_yaxis()  # labels read top-to-bottom\n",
    "ax.set_xlabel('positive and negative')\n",
    "ax.set_title('what are the most important words')\n",
    "\n",
    "plt.show()"
   ]
  },
  {
   "cell_type": "code",
   "execution_count": null,
   "metadata": {
    "collapsed": true
   },
   "outputs": [],
   "source": []
  }
 ],
 "metadata": {
  "kernelspec": {
   "display_name": "Python 3",
   "language": "python",
   "name": "python3"
  },
  "language_info": {
   "codemirror_mode": {
    "name": "ipython",
    "version": 3
   },
   "file_extension": ".py",
   "mimetype": "text/x-python",
   "name": "python",
   "nbconvert_exporter": "python",
   "pygments_lexer": "ipython3",
   "version": "3.6.1"
  }
 },
 "nbformat": 4,
 "nbformat_minor": 2
}
