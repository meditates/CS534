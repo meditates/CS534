{
 "cells": [
  {
   "cell_type": "markdown",
   "metadata": {},
   "source": [
    "# Problem 2 a"
   ]
  },
  {
   "cell_type": "code",
   "execution_count": 34,
   "metadata": {
    "scrolled": false
   },
   "outputs": [
    {
     "name": "stdout",
     "output_type": "stream",
     "text": [
      "the lowest RMSE from the validation set 24.8993371766\n",
      "find the a is 0.231012970008\n"
     ]
    },
    {
     "data": {
      "image/png": "[encoded data removed]",
      "text/plain": [
       "<matplotlib.figure.Figure at 0x22d884f2208>"
      ]
     },
     "metadata": {},
     "output_type": "display_data"
    },
    {
     "name": "stdout",
     "output_type": "stream",
     "text": [
      "The test set RMSE is 25.7486918796\n"
     ]
    }
   ],
   "source": [
    "import pandas as pd\n",
    "import numpy as np\n",
    "from numpy import *\n",
    "import matplotlib.pyplot as plt\n",
    "from sklearn import linear_model,metrics\n",
    "from sklearn import preprocessing\n",
    "\n",
    "%matplotlib inline\n",
    "\n",
    "# read data into a DataFrame\n",
    "dataTrain = pd.read_csv('blogData_train.csv',header=None,index_col=False) \n",
    "dataTest = pd.read_csv('blogData_test.csv',header=None,index_col=False)\n",
    "dataValidate = pd.read_csv('blogData_validate.csv',header=None,index_col=False)\n",
    "\n",
    "X = dataTrain[list(range(280))]\n",
    "y = dataTrain[[280]]\n",
    "X_val = dataValidate[list(range(280))]\n",
    "y_val = dataValidate[[280]]\n",
    "X_test = dataTest[list(range(280))]\n",
    "y_test = dataTest[[280]]\n",
    "\n",
    "#standardization\n",
    "min_max_scaler = preprocessing.MinMaxScaler()\n",
    "min_max_scaler.fit(X)\n",
    "X = min_max_scaler.transform(X)\n",
    "X_val = min_max_scaler.transform(X_val)\n",
    "X_test = min_max_scaler.transform(X_test)\n",
    "\n",
    "#try more alpha\n",
    "alphas = np.logspace(-4, 5, 100)\n",
    "clf = linear_model.Ridge(fit_intercept=False)\n",
    "\n",
    "i=0\n",
    "RMSE=[]\n",
    "for a in alphas:\n",
    "    clf.set_params(alpha=a)\n",
    "    clf.fit(X, y)\n",
    "    y_pred = clf.predict(X_val)\n",
    "    RMSE.append(np.sqrt(metrics.mean_squared_error(y_pred,y_val)))\n",
    "    i=i+1\n",
    "    \n",
    "print('the lowest RMSE from the validation set',min(RMSE))\n",
    "a=alphas[RMSE.index(min(RMSE))]\n",
    "print('find the a is',a)\n",
    "\n",
    "#draw RMSE from the validation set\n",
    "ax = plt.gca()\n",
    "ax.plot(alphas, RMSE)\n",
    "\n",
    "ax.set_xscale('log')\n",
    "plt.xlabel('alpha')\n",
    "plt.ylabel('RMSE')\n",
    "plt.axis('tight')\n",
    "plt.show()\n",
    "\n",
    "#use the a to compute RMSE_min\n",
    "ridge = linear_model.Ridge(alpha=a)\n",
    "clf = ridge.fit(X, y)\n",
    "y_testpred = clf.predict(X_test)\n",
    "RMSE_test=np.sqrt(metrics.mean_squared_error(y_testpred,y_test))\n",
    "print('The test set RMSE is',RMSE_test)\n",
    "B_parta=ridge.coef_\n",
    "#print(B_parta)"
   ]
  },
  {
   "cell_type": "code",
   "execution_count": 35,
   "metadata": {},
   "outputs": [
    {
     "name": "stdout",
     "output_type": "stream",
     "text": [
      "[[ -9.27780128e+01   3.16346805e+01  -2.03226734e+01   5.22842931e+00\n",
      "    2.56367470e+01   1.04264770e+02   3.49591124e+01  -1.17442044e+01\n",
      "   -1.08632682e+01   6.64452884e+01   1.02231434e+02   7.72503045e+01\n",
      "    0.00000000e+00  -2.15038901e+01   9.01785143e+01  -9.14712259e+01\n",
      "   -6.76863628e+01  -2.03226734e+01   1.26711067e+01   3.02687417e+01\n",
      "    4.39212405e+01  -4.30090561e+01  -1.81787559e+01  -5.86547449e+00\n",
      "    6.84345684e+01  -6.03742644e+01   3.24562265e+00   9.82784799e+00\n",
      "   -9.78162942e+00   4.99904496e+00   3.96744089e+01   8.26156628e-01\n",
      "    0.00000000e+00   1.07746079e+01  -1.44493325e+00   4.35743184e+01\n",
      "   -2.63100275e+01   0.00000000e+00   1.82678510e+01  -1.06517569e+00\n",
      "   -2.90891342e+01   1.07867667e+01   9.82784799e+00   4.38786258e+00\n",
      "   -4.34871270e-03  -7.74750014e+00   3.52652361e+00   1.40827377e+01\n",
      "   -9.39245891e+00  -6.76758332e-04  -8.39199204e+01   2.40380236e+02\n",
      "    7.39455019e+00  -6.05693439e+01   1.23887833e+02  -2.57181347e+01\n",
      "    1.11759373e+01   8.55914007e+00   2.19822544e+01   1.46053800e+00\n",
      "   -1.09509299e+01   6.75971893e+00   2.06301939e+00  -6.12061000e-01\n",
      "    2.54991309e-01   9.00176767e-01  -3.89628190e-01   3.15016757e-01\n",
      "    1.50842228e+00  -2.84591669e+00  -2.55453687e+00   2.59678278e+00\n",
      "    2.54991309e-01  -6.41537156e+00  -1.25908494e+00   2.54991309e-01\n",
      "    4.73508697e+00  -2.18515066e+00  -1.28444250e-01   2.54991309e-01\n",
      "    2.54991309e-01  -4.51816218e+00  -7.39245353e-01  -1.18541483e+01\n",
      "    2.91646883e+01  -8.29062729e-02  -1.49037402e+01   2.83972703e+00\n",
      "   -1.15001396e+00   2.89869596e+01  -5.54444635e+00   2.91014688e+01\n",
      "    1.52768111e+00   2.54991309e-01  -6.21477090e+00   9.43360480e-01\n",
      "    2.54991309e-01   9.63454331e+00  -2.83399448e+00  -5.75630732e+00\n",
      "   -5.20388367e-01   7.91058553e-01   5.18470275e-02   6.61530113e-01\n",
      "    2.03371749e+00  -1.56474578e+00  -4.29974656e+00  -1.43781048e+00\n",
      "    4.07862001e-01  -1.42419243e+00   6.86229819e-01  -3.38247237e+00\n",
      "    3.22901043e+00  -1.08133061e+00  -9.79383245e-02  -1.78386149e+00\n",
      "   -1.44277478e+00   7.89319600e-01  -1.18087179e+00  -2.01411372e-01\n",
      "    7.34438261e-01  -3.82253846e-01  -2.13958717e+00   2.08381670e+01\n",
      "   -1.53437142e+00   4.97119928e+00  -3.12776619e+00   1.97337814e-01\n",
      "    1.49945737e+00   2.54991309e-01  -8.66974053e-01   2.54991309e-01\n",
      "    4.05019551e+00   4.82018614e-01  -9.23467295e-01   2.18952368e-01\n",
      "    4.63961899e+00   1.42704539e+00   1.85668080e-01  -3.11392611e-01\n",
      "    4.91048745e-01   1.16459509e+00  -7.48426566e-01   9.78391769e-01\n",
      "   -5.51263481e+00  -2.70958751e+00  -7.03997079e+00  -6.08591942e+00\n",
      "    2.54991309e-01   9.39064742e-01   4.87753732e-01  -2.99749146e+00\n",
      "   -9.83716718e-01   2.04751423e+00  -1.71389091e+01   2.54991309e-01\n",
      "    1.91336668e-01   1.03110353e+00   8.47871465e-01  -7.12274635e+00\n",
      "    2.54991309e-01  -5.54985298e-01   7.87650678e-01  -2.20854896e+00\n",
      "   -5.46309555e-01   2.54991309e-01   1.26025718e+00  -2.57340999e+00\n",
      "    2.54991309e-01  -5.41244695e-01   1.63600382e+01   2.54991309e-01\n",
      "   -4.26643422e+00  -1.49211214e+00   1.46314705e+00  -4.81473055e+00\n",
      "   -1.18601511e+00  -1.45622867e+00   2.54991309e-01  -4.28811359e-01\n",
      "   -7.12951556e-01   3.56191052e-01  -6.95853922e-01   6.74151426e-01\n",
      "    6.66395299e-01   1.25124882e+00  -1.13537423e+00  -1.70822678e+00\n",
      "   -9.93691680e-01   2.54991309e-01  -3.76267986e-01   1.08831548e+00\n",
      "    8.30252048e-03  -7.28153600e-01   2.82414690e+00  -1.49053778e+00\n",
      "   -9.99612224e-01   2.54991309e-01   4.11800520e+00   2.54991309e-01\n",
      "   -2.57346034e+00   6.27261531e-01  -4.19574585e+00   2.46848925e+00\n",
      "    9.76578503e-01  -1.14246896e+00   4.10823918e-01   1.76440037e+00\n",
      "   -1.43360514e+00   2.42017122e-01  -2.87820398e+00   2.54991309e-01\n",
      "    9.25074957e-02   5.77579911e+00  -1.94553488e-01   1.01074264e+00\n",
      "   -2.91691079e+01   5.13684734e+00  -2.10047568e+00   1.64041652e-01\n",
      "    1.85202268e+00  -1.04730571e+01  -1.03103990e+00  -4.31910896e+00\n",
      "   -2.06430845e+00   1.26370607e+00   9.08710439e-01  -3.70895409e-01\n",
      "   -6.13862436e-01   2.11565260e-01  -1.88239408e+00   7.23795870e-01\n",
      "    2.42268267e-02  -6.31450071e-01  -1.38658565e+00   2.54991309e-01\n",
      "   -2.63265128e+00  -3.19304664e+00   5.48001856e-02  -7.70529436e-01\n",
      "    2.72862415e+00  -2.07989467e+00   2.54991309e-01   8.89402528e-01\n",
      "    1.62140477e-01  -7.63600287e-01  -7.49726101e-01   5.16435325e-01\n",
      "   -3.28434804e-02   2.54991309e-01  -3.06050988e-01   2.92252146e+00\n",
      "   -4.22774487e-01  -2.04230727e-01  -1.70108818e+00   2.48016313e+00\n",
      "    9.92999067e-01   8.38897873e-01   7.99262564e-01   3.90543498e+00\n",
      "    2.97889765e+00  -2.24299253e+00   9.98020698e-01  -8.89692198e-02\n",
      "   -9.14343104e-01  -5.03542527e-01  -7.52409282e-01  -3.89984076e-02\n",
      "    1.30024183e+00  -9.90163975e-02   6.65646703e-01   1.89487254e-01\n",
      "   -5.26254056e-01  -3.22514107e-01   2.06259106e-01  -1.13608504e-01\n",
      "    2.99475922e+00   0.00000000e+00  -3.15871463e+00   8.78920759e+00]]\n"
     ]
    }
   ],
   "source": [
    "print(B_parta)"
   ]
  },
  {
   "cell_type": "markdown",
   "metadata": {},
   "source": [
    "# Problem 2 b"
   ]
  },
  {
   "cell_type": "code",
   "execution_count": 31,
   "metadata": {
    "collapsed": true,
    "scrolled": true
   },
   "outputs": [],
   "source": [
    "import pandas as pd\n",
    "import numpy as np\n",
    "from numpy import *\n",
    "import matplotlib.pyplot as plt\n",
    "import random\n",
    "from sklearn import preprocessing\n",
    "\n",
    "%matplotlib inline\n",
    "\n",
    "# read data into a DataFrame\n",
    "dataTrain = pd.read_csv('blogData_train.csv',header=None,index_col=False) \n",
    "dataTest = pd.read_csv('blogData_test.csv',header=None,index_col=False)\n",
    "dataValidate = pd.read_csv('blogData_validate.csv',header=None,index_col=False)\n",
    "\n",
    "X = np.array(dataTrain[list(range(280))])\n",
    "y = np.array(dataTrain[[280]])\n",
    "X_val = np.array(dataValidate[list(range(280))])\n",
    "y_val = np.array(dataValidate[[280]])\n",
    "X_test = np.array(dataTest[list(range(280))])\n",
    "y_test = np.array(dataTest[[280]])\n",
    "\n",
    "#standardization\n",
    "\n",
    "'''\n",
    "I tried two ways to standardize, but finally used the preprocessing packet for better performance.\n",
    "def fit_data(dataSet):\n",
    "    i=0\n",
    "    j=0\n",
    "    X_fit = zeros(shape(dataSet))\n",
    "    for j in range(len(dataSet[0])):\n",
    "        m=np.average(dataSet[:,j])\n",
    "        s=np.std(dataSet[:,j])\n",
    "        for i in range(len(dataSet)):\n",
    "            if (s!=0):\n",
    "                X_fit[i,j]=(dataSet[i,j]-m)/s\n",
    "    return X_fit\n",
    "\n",
    "def fit_data(dataSet):\n",
    "    minVals = dataSet.min(0)\n",
    "    maxVals = dataSet.max(0)\n",
    "\n",
    "    normDataSet = zeros(shape(dataSet))\n",
    "    m = dataSet.shape[0]\n",
    "    for j in range(len(dataSet[0])):\n",
    "        for i in range(len(dataSet)):\n",
    "            if ((maxVals[j] -minVals[j])!=0):\n",
    "                normDataSet[i,j]=(dataSet[i,j]-minVals[j])/maxVals[j] -minVals[j]\n",
    "    return normDataSet\n",
    "\n",
    "X=fit_data(X)\n",
    "X_val=fit_data(X_val)\n",
    "X_test=fit_data(X_test)\n",
    "'''\n",
    "min_max_scaler = preprocessing.MinMaxScaler()\n",
    "min_max_scaler.fit(X)\n",
    "X = min_max_scaler.transform(X)\n",
    "X_val = min_max_scaler.transform(X_val)\n",
    "X_test = min_max_scaler.transform(X_test)\n",
    "\n",
    "X_all=np.vstack((X,X_val,X_test))\n",
    "y_all=np.vstack((y,y_val,y_test))\n",
    "\n",
    "# Ridge\n",
    "def sgd_ridge(Xarray,yarray,alfas,learning_rate,times):\n",
    "    i=0\n",
    "    B=np.zeros((280,1))\n",
    "\n",
    "    for i in range(times):\n",
    "        random.shuffle(Xarray)\n",
    "        j=0\n",
    "        for j in range(len(Xarray)):\n",
    "            deltaB = 2*np.dot((Xarray[[j]]).T,(np.dot(Xarray[[j]],B)-yarray[j]))+2*alfas*B\n",
    "            B = B - alfas*learning_rate*deltaB\n",
    "            \n",
    "    return B\n",
    "\n",
    "#RMSE\n",
    "def RMSE_com(Xarray,yarray,B):\n",
    "    line=0\n",
    "    for i in range(len(yarray)):\n",
    "        line = line+(np.dot(Xarray[[i]],B)-yarray[i])**2\n",
    "\n",
    "    RMSE = sqrt(line/len(yarray))\n",
    "    \n",
    "    return RMSE\n",
    "\n",
    "B0=sgd_ridge(X,y,0.231,0.01,5) #choose learning rate 0.01\n"
   ]
  },
  {
   "cell_type": "markdown",
   "metadata": {},
   "source": [
    "# Problem 2 c"
   ]
  },
  {
   "cell_type": "code",
   "execution_count": 25,
   "metadata": {},
   "outputs": [
    {
     "data": {
      "image/png": "[encoded data removed]",
      "text/plain": [
       "<matplotlib.figure.Figure at 0x22d88498b70>"
      ]
     },
     "metadata": {},
     "output_type": "display_data"
    },
    {
     "name": "stdout",
     "output_type": "stream",
     "text": [
      "RMSE is [[ 28.82748016]] learning_rate is: 1e-10\n"
     ]
    },
    {
     "data": {
      "image/png": "[encoded data removed]",
      "text/plain": [
       "<matplotlib.figure.Figure at 0x22d89013860>"
      ]
     },
     "metadata": {},
     "output_type": "display_data"
    },
    {
     "name": "stdout",
     "output_type": "stream",
     "text": [
      "RMSE is [[ 28.82745552]] learning_rate is: 3.35981828628e-10\n"
     ]
    },
    {
     "data": {
      "image/png": "[encoded data removed]",
      "text/plain": [
       "<matplotlib.figure.Figure at 0x22d88f99278>"
      ]
     },
     "metadata": {},
     "output_type": "display_data"
    },
    {
     "name": "stdout",
     "output_type": "stream",
     "text": [
      "RMSE is [[ 28.82737296]] learning_rate is: 1.12883789168e-09\n"
     ]
    },
    {
     "data": {
      "image/png": "[encoded data removed]",
      "text/plain": [
       "<matplotlib.figure.Figure at 0x22d882094a8>"
      ]
     },
     "metadata": {},
     "output_type": "display_data"
    },
    {
     "name": "stdout",
     "output_type": "stream",
     "text": [
      "RMSE is [[ 28.82709546]] learning_rate is: 3.79269019073e-09\n"
     ]
    },
    {
     "data": {
      "image/png": "[encoded data removed]",
      "text/plain": [
       "<matplotlib.figure.Figure at 0x22d885ff668>"
      ]
     },
     "metadata": {},
     "output_type": "display_data"
    },
    {
     "name": "stdout",
     "output_type": "stream",
     "text": [
      "RMSE is [[ 28.82616346]] learning_rate is: 1.2742749857e-08\n"
     ]
    },
    {
     "data": {
      "image/png": "[encoded data removed]",
      "text/plain": [
       "<matplotlib.figure.Figure at 0x22d8e6d30f0>"
      ]
     },
     "metadata": {},
     "output_type": "display_data"
    },
    {
     "name": "stdout",
     "output_type": "stream",
     "text": [
      "RMSE is [[ 28.82305437]] learning_rate is: 4.28133239872e-08\n"
     ]
    },
    {
     "data": {
      "image/png": "[encoded data removed]",
      "text/plain": [
       "<matplotlib.figure.Figure at 0x22d88503e48>"
      ]
     },
     "metadata": {},
     "output_type": "display_data"
    },
    {
     "name": "stdout",
     "output_type": "stream",
     "text": [
      "RMSE is [[ 28.81279212]] learning_rate is: 1.43844988829e-07\n"
     ]
    },
    {
     "data": {
      "image/png": "[encoded data removed]",
      "text/plain": [
       "<matplotlib.figure.Figure at 0x22d88689f98>"
      ]
     },
     "metadata": {},
     "output_type": "display_data"
    },
    {
     "name": "stdout",
     "output_type": "stream",
     "text": [
      "RMSE is [[ 28.78012619]] learning_rate is: 4.83293023857e-07\n"
     ]
    },
    {
     "data": {
      "image/png": "[encoded data removed]",
      "text/plain": [
       "<matplotlib.figure.Figure at 0x22d887153c8>"
      ]
     },
     "metadata": {},
     "output_type": "display_data"
    },
    {
     "name": "stdout",
     "output_type": "stream",
     "text": [
      "RMSE is [[ 28.68845887]] learning_rate is: 1.62377673919e-06\n"
     ]
    },
    {
     "data": {
      "image/png": "[encoded data removed]",
      "text/plain": [
       "<matplotlib.figure.Figure at 0x22d8865a828>"
      ]
     },
     "metadata": {},
     "output_type": "display_data"
    },
    {
     "name": "stdout",
     "output_type": "stream",
     "text": [
      "RMSE is [[ 28.51630289]] learning_rate is: 5.45559478117e-06\n"
     ]
    },
    {
     "data": {
      "image/png": "[encoded data removed]",
      "text/plain": [
       "<matplotlib.figure.Figure at 0x22d8822b860>"
      ]
     },
     "metadata": {},
     "output_type": "display_data"
    },
    {
     "name": "stdout",
     "output_type": "stream",
     "text": [
      "RMSE is [[ 28.44207521]] learning_rate is: 1.83298071083e-05\n"
     ]
    },
    {
     "data": {
      "image/png": "[encoded data removed]",
      "text/plain": [
       "<matplotlib.figure.Figure at 0x22d882b1208>"
      ]
     },
     "metadata": {},
     "output_type": "display_data"
    },
    {
     "name": "stdout",
     "output_type": "stream",
     "text": [
      "RMSE is [[ 28.56191913]] learning_rate is: 6.15848211066e-05\n"
     ]
    },
    {
     "data": {
      "image/png": "[encoded data removed]",
      "text/plain": [
       "<matplotlib.figure.Figure at 0x22d88636940>"
      ]
     },
     "metadata": {},
     "output_type": "display_data"
    },
    {
     "name": "stdout",
     "output_type": "stream",
     "text": [
      "RMSE is [[ 28.63246116]] learning_rate is: 0.000206913808111\n"
     ]
    },
    {
     "data": {
      "image/png": "[encoded data removed]",
      "text/plain": [
       "<matplotlib.figure.Figure at 0x22d883d24e0>"
      ]
     },
     "metadata": {},
     "output_type": "display_data"
    },
    {
     "name": "stdout",
     "output_type": "stream",
     "text": [
      "RMSE is [[ 28.66421599]] learning_rate is: 0.000695192796178\n"
     ]
    },
    {
     "data": {
      "image/png": "[encoded data removed]",
      "text/plain": [
       "<matplotlib.figure.Figure at 0x22d8855ca58>"
      ]
     },
     "metadata": {},
     "output_type": "display_data"
    },
    {
     "name": "stdout",
     "output_type": "stream",
     "text": [
      "RMSE is [[ 28.70990394]] learning_rate is: 0.00233572146909\n"
     ]
    },
    {
     "data": {
      "image/png": "[encoded data removed]",
      "text/plain": [
       "<matplotlib.figure.Figure at 0x22d8845c358>"
      ]
     },
     "metadata": {},
     "output_type": "display_data"
    },
    {
     "name": "stdout",
     "output_type": "stream",
     "text": [
      "RMSE is [[ 28.73899289]] learning_rate is: 0.00784759970351\n"
     ]
    },
    {
     "data": {
      "image/png": "[encoded data removed]",
      "text/plain": [
       "<matplotlib.figure.Figure at 0x22d8843d2b0>"
      ]
     },
     "metadata": {},
     "output_type": "display_data"
    },
    {
     "name": "stdout",
     "output_type": "stream",
     "text": [
      "RMSE is [[ 28.7908616]] learning_rate is: 0.0263665089873\n"
     ]
    },
    {
     "data": {
      "image/png": "[encoded data removed]",
      "text/plain": [
       "<matplotlib.figure.Figure at 0x22dfbb20a58>"
      ]
     },
     "metadata": {},
     "output_type": "display_data"
    },
    {
     "name": "stdout",
     "output_type": "stream",
     "text": [
      "RMSE is [[ 28.82587043]] learning_rate is: 0.088586679041\n"
     ]
    },
    {
     "data": {
      "image/png": "[encoded data removed]",
      "text/plain": [
       "<matplotlib.figure.Figure at 0x22d8856c2b0>"
      ]
     },
     "metadata": {},
     "output_type": "display_data"
    },
    {
     "name": "stdout",
     "output_type": "stream",
     "text": [
      "RMSE is [[ 28.8274915]] learning_rate is: 0.297635144163\n"
     ]
    },
    {
     "name": "stderr",
     "output_type": "stream",
     "text": [
      "C:\\Users\\Si\\Anaconda3\\lib\\site-packages\\ipykernel_launcher.py:72: RuntimeWarning: overflow encountered in multiply\n",
      "C:\\Users\\Si\\Anaconda3\\lib\\site-packages\\ipykernel_launcher.py:73: RuntimeWarning: invalid value encountered in subtract\n"
     ]
    },
    {
     "data": {
      "image/png": "[encoded data removed]",
      "text/plain": [
       "<matplotlib.figure.Figure at 0x22d886369e8>"
      ]
     },
     "metadata": {},
     "output_type": "display_data"
    },
    {
     "name": "stdout",
     "output_type": "stream",
     "text": [
      "RMSE is [[ nan]] learning_rate is: 1.0\n"
     ]
    }
   ],
   "source": [
    "#first use the train set to find the near range of the learning rate\n",
    "learning_rate=np.logspace(-10, 0, 20)\n",
    "i=0\n",
    "\n",
    "for a in learning_rate:\n",
    "    B1 = sgd_ridge(X,y,0.231,a,1)\n",
    "    F_xtemp=np.dot(X,B1)\n",
    "    \n",
    "    plt.plot(F_xtemp)\n",
    "    plt.ylim(-50,50)\n",
    "    plt.show()\n",
    "    RMSE=RMSE_com(X_test,y_test,B1)\n",
    "    print('RMSE is',RMSE,'learning_rate is:',a)\n",
    "    \n",
    "    \n"
   ]
  },
  {
   "cell_type": "markdown",
   "metadata": {},
   "source": [
    "When using the train data one time of sgd,it seems that when a is  1.83298071083e-05,RMSE is the smallest [[ 28.44207521]].So we change the range of learning rate range smaller, and try the whole data set 8times by ridge."
   ]
  },
  {
   "cell_type": "code",
   "execution_count": 30,
   "metadata": {},
   "outputs": [
    {
     "data": {
      "image/png": "[encoded data removed]",
      "text/plain": [
       "<matplotlib.figure.Figure at 0x22d8e7ccb70>"
      ]
     },
     "metadata": {},
     "output_type": "display_data"
    },
    {
     "name": "stdout",
     "output_type": "stream",
     "text": [
      "RMSE is [[ 28.40492794]] learning_rate is: 1e-06\n"
     ]
    },
    {
     "data": {
      "image/png": "[encoded data removed]",
      "text/plain": [
       "<matplotlib.figure.Figure at 0x22d88fd8128>"
      ]
     },
     "metadata": {},
     "output_type": "display_data"
    },
    {
     "name": "stdout",
     "output_type": "stream",
     "text": [
      "RMSE is [[ 28.36829912]] learning_rate is: 1.29154966501e-06\n"
     ]
    },
    {
     "data": {
      "image/png": "[encoded data removed]",
      "text/plain": [
       "<matplotlib.figure.Figure at 0x22d882f7cf8>"
      ]
     },
     "metadata": {},
     "output_type": "display_data"
    },
    {
     "name": "stdout",
     "output_type": "stream",
     "text": [
      "RMSE is [[ 28.34023974]] learning_rate is: 1.6681005372e-06\n"
     ]
    },
    {
     "data": {
      "image/png": "[encoded data removed]",
      "text/plain": [
       "<matplotlib.figure.Figure at 0x22d884767b8>"
      ]
     },
     "metadata": {},
     "output_type": "display_data"
    },
    {
     "name": "stdout",
     "output_type": "stream",
     "text": [
      "RMSE is [[ 28.3216903]] learning_rate is: 2.15443469003e-06\n"
     ]
    },
    {
     "data": {
      "image/png": "[encoded data removed]",
      "text/plain": [
       "<matplotlib.figure.Figure at 0x22d8e829be0>"
      ]
     },
     "metadata": {},
     "output_type": "display_data"
    },
    {
     "name": "stdout",
     "output_type": "stream",
     "text": [
      "RMSE is [[ 28.31230938]] learning_rate is: 2.78255940221e-06\n"
     ]
    },
    {
     "data": {
      "image/png": "[encoded data removed]",
      "text/plain": [
       "<matplotlib.figure.Figure at 0x22d87f26518>"
      ]
     },
     "metadata": {},
     "output_type": "display_data"
    },
    {
     "name": "stdout",
     "output_type": "stream",
     "text": [
      "RMSE is [[ 28.31075476]] learning_rate is: 3.5938136638e-06\n"
     ]
    },
    {
     "data": {
      "image/png": "[encoded data removed]",
      "text/plain": [
       "<matplotlib.figure.Figure at 0x22d882dec18>"
      ]
     },
     "metadata": {},
     "output_type": "display_data"
    },
    {
     "name": "stdout",
     "output_type": "stream",
     "text": [
      "RMSE is [[ 28.31520245]] learning_rate is: 4.64158883361e-06\n"
     ]
    },
    {
     "data": {
      "image/png": "[encoded data removed]",
      "text/plain": [
       "<matplotlib.figure.Figure at 0x22d8873f0b8>"
      ]
     },
     "metadata": {},
     "output_type": "display_data"
    },
    {
     "name": "stdout",
     "output_type": "stream",
     "text": [
      "RMSE is [[ 28.32400539]] learning_rate is: 5.99484250319e-06\n"
     ]
    },
    {
     "data": {
      "image/png": "[encoded data removed]",
      "text/plain": [
       "<matplotlib.figure.Figure at 0x22d86f2b860>"
      ]
     },
     "metadata": {},
     "output_type": "display_data"
    },
    {
     "name": "stdout",
     "output_type": "stream",
     "text": [
      "RMSE is [[ 28.33619922]] learning_rate is: 7.74263682681e-06\n"
     ]
    },
    {
     "data": {
      "image/png": "[encoded data removed]",
      "text/plain": [
       "<matplotlib.figure.Figure at 0x22d887cc2b0>"
      ]
     },
     "metadata": {},
     "output_type": "display_data"
    },
    {
     "name": "stdout",
     "output_type": "stream",
     "text": [
      "RMSE is [[ 28.35144694]] learning_rate is: 1e-05\n"
     ]
    }
   ],
   "source": [
    "learning_rate=np.logspace(-6, -5, 10)\n",
    "i=0\n",
    "\n",
    "for a in learning_rate:\n",
    "    B1 = sgd_ridge(X_all,y_all,0.231,a,8)\n",
    "    F_xtemp=np.dot(X,B1)\n",
    "    \n",
    "    plt.plot(F_xtemp)\n",
    "    plt.ylim(-50,50)\n",
    "    plt.show()\n",
    "    RMSE=RMSE_com(X_test,y_test,B1)\n",
    "    print('RMSE is',RMSE,'learning_rate is:',a)"
   ]
  },
  {
   "cell_type": "markdown",
   "metadata": {},
   "source": [
    "So the good learning_rate is: 3.5938136638e-06.\n",
    "when train on the entire dataset by that learning rate, the smallest RMSE is 28.31075476."
   ]
  },
  {
   "cell_type": "markdown",
   "metadata": {},
   "source": [
    "# problem 2 d"
   ]
  },
  {
   "cell_type": "markdown",
   "metadata": {},
   "source": [
    "I compared the two learned coefficients between a and c, they are totally different. I print the coefficients of a in part a."
   ]
  },
  {
   "cell_type": "code",
   "execution_count": 36,
   "metadata": {},
   "outputs": [
    {
     "name": "stdout",
     "output_type": "stream",
     "text": [
      "the learned coefficients fromp part c is:\n",
      " [[  2.73377936e-02]\n",
      " [  7.68441374e-02]\n",
      " [  2.53098346e-03]\n",
      " [  1.58981955e-01]\n",
      " [  1.18227374e-02]\n",
      " [  2.60202128e-02]\n",
      " [  7.16950736e-02]\n",
      " [  2.89623327e-03]\n",
      " [  1.87309979e-01]\n",
      " [  5.18336177e-03]\n",
      " [  2.50954687e-02]\n",
      " [  7.08179775e-02]\n",
      " [  0.00000000e+00]\n",
      " [  1.86867344e-01]\n",
      " [  4.28295217e-03]\n",
      " [  2.56074833e-02]\n",
      " [  6.75926976e-02]\n",
      " [  2.53098346e-03]\n",
      " [  1.45815637e-01]\n",
      " [  1.10839761e-02]\n",
      " [  4.54185227e-02]\n",
      " [  6.66492639e-02]\n",
      " [  1.14714176e+00]\n",
      " [  1.82808094e-01]\n",
      " [  5.63115538e-01]\n",
      " [  4.91389906e-02]\n",
      " [  1.71540191e-01]\n",
      " [ -5.68748219e-05]\n",
      " [  2.45962857e-01]\n",
      " [  1.11768947e-02]\n",
      " [  5.27704731e-02]\n",
      " [  1.11153485e-01]\n",
      " [  0.00000000e+00]\n",
      " [  2.47634569e-01]\n",
      " [ -4.47653433e-03]\n",
      " [  5.22863950e-02]\n",
      " [  1.09142457e-01]\n",
      " [  0.00000000e+00]\n",
      " [  2.46789888e-01]\n",
      " [ -4.55192882e-06]\n",
      " [  4.69527403e-02]\n",
      " [  1.66590798e-01]\n",
      " [ -5.68748219e-05]\n",
      " [  2.56752971e-01]\n",
      " [  5.25711521e-03]\n",
      " [  1.16830794e-01]\n",
      " [  9.35883248e-02]\n",
      " [  1.08656139e+00]\n",
      " [  2.53048577e-01]\n",
      " [  4.48717366e-01]\n",
      " [  1.35721344e-02]\n",
      " [  8.06095642e-03]\n",
      " [  6.55710265e-03]\n",
      " [  1.33257874e-02]\n",
      " [  6.32329581e-01]\n",
      " [  1.34650122e-02]\n",
      " [  7.21693577e-03]\n",
      " [  6.72184782e-03]\n",
      " [  1.42540787e-02]\n",
      " [  6.26567666e-01]\n",
      " [  6.14839998e-01]\n",
      " [  1.46970930e-02]\n",
      " [  1.13908907e-03]\n",
      " [  3.49197643e-02]\n",
      " [  5.23534780e-04]\n",
      " [ -1.65634386e-04]\n",
      " [  9.93759269e-02]\n",
      " [  4.23825768e-02]\n",
      " [  5.61910138e-02]\n",
      " [  2.70779783e-03]\n",
      " [ -5.23437611e-04]\n",
      " [  1.79017587e-02]\n",
      " [  5.23534780e-04]\n",
      " [  6.45382112e-04]\n",
      " [  4.01074489e-03]\n",
      " [  5.23534780e-04]\n",
      " [  1.40313714e-02]\n",
      " [ -8.56746344e-04]\n",
      " [  4.92492096e-02]\n",
      " [  5.23534780e-04]\n",
      " [  5.23534780e-04]\n",
      " [  2.04194342e-04]\n",
      " [  2.66289090e-03]\n",
      " [  1.31855300e-03]\n",
      " [  6.11614381e-04]\n",
      " [  2.27502675e-02]\n",
      " [  2.29443880e-04]\n",
      " [  7.26703404e-03]\n",
      " [  1.05153274e-02]\n",
      " [  4.02552913e-04]\n",
      " [  1.27776395e-03]\n",
      " [  7.07435364e-04]\n",
      " [ -1.48445331e-03]\n",
      " [  5.23534780e-04]\n",
      " [  9.16906245e-04]\n",
      " [  1.15774446e-02]\n",
      " [  5.23534780e-04]\n",
      " [ -2.69095870e-05]\n",
      " [  1.43194436e-04]\n",
      " [  2.50303738e-04]\n",
      " [  3.64914818e-01]\n",
      " [  4.00517429e-02]\n",
      " [  1.40250469e-02]\n",
      " [  1.68300859e-02]\n",
      " [  2.07695346e-03]\n",
      " [  4.61807988e-03]\n",
      " [  9.94191410e-05]\n",
      " [ -6.11168317e-03]\n",
      " [  3.41350681e-04]\n",
      " [  1.61296229e-02]\n",
      " [  7.43849994e-04]\n",
      " [  2.67123430e-04]\n",
      " [  6.03581097e-04]\n",
      " [  3.28840443e-02]\n",
      " [  1.84068538e-02]\n",
      " [  1.67633761e-02]\n",
      " [  1.25562408e-03]\n",
      " [ -5.73549786e-03]\n",
      " [  2.45893209e-02]\n",
      " [  4.99813834e-02]\n",
      " [  1.60183797e-02]\n",
      " [  7.46471338e-02]\n",
      " [  6.48909436e-04]\n",
      " [  5.67541432e-04]\n",
      " [  4.89565591e-03]\n",
      " [  1.38783153e-03]\n",
      " [ -1.37670405e-03]\n",
      " [  8.71090303e-03]\n",
      " [  5.16572318e-04]\n",
      " [  5.23534780e-04]\n",
      " [  9.90920167e-04]\n",
      " [  5.23534780e-04]\n",
      " [  2.54447219e-03]\n",
      " [  2.06532307e-02]\n",
      " [  1.29268429e-02]\n",
      " [  9.22164670e-03]\n",
      " [  1.33342434e-03]\n",
      " [  9.45202767e-03]\n",
      " [  6.02153132e-02]\n",
      " [  9.20011867e-03]\n",
      " [  2.54379434e-02]\n",
      " [  5.89529596e-04]\n",
      " [  4.22657234e-01]\n",
      " [  3.53496683e-03]\n",
      " [  2.32917986e-03]\n",
      " [  3.57143218e-03]\n",
      " [  5.31690592e-03]\n",
      " [  8.20733073e-04]\n",
      " [  5.23534780e-04]\n",
      " [ -1.43778441e-03]\n",
      " [  1.11529616e-01]\n",
      " [  2.80155307e-03]\n",
      " [  9.05793572e-03]\n",
      " [  1.96192497e-02]\n",
      " [  3.17054038e-04]\n",
      " [  5.23534780e-04]\n",
      " [  2.54037509e-03]\n",
      " [  1.06554688e-01]\n",
      " [  1.46213265e-02]\n",
      " [  2.65661575e-05]\n",
      " [  5.23534780e-04]\n",
      " [  1.11335955e-02]\n",
      " [  4.30799593e-03]\n",
      " [  5.05121533e-04]\n",
      " [  1.35135154e-03]\n",
      " [  5.23534780e-04]\n",
      " [ -2.86070325e-04]\n",
      " [  3.31880097e-05]\n",
      " [  5.23534780e-04]\n",
      " [  5.20667342e-02]\n",
      " [ -2.95494699e-04]\n",
      " [  5.23534780e-04]\n",
      " [  7.21054541e-04]\n",
      " [  1.08324146e-02]\n",
      " [ -1.50178008e-03]\n",
      " [ -2.28351529e-03]\n",
      " [  2.13964795e-03]\n",
      " [  3.54630779e-04]\n",
      " [  5.23534780e-04]\n",
      " [  2.77076946e-02]\n",
      " [  2.67099771e-03]\n",
      " [  4.76949586e-03]\n",
      " [  1.64785593e-02]\n",
      " [  4.32008598e-02]\n",
      " [  3.59585585e-04]\n",
      " [  1.12466987e-02]\n",
      " [  6.13108424e-04]\n",
      " [ -1.21044021e-03]\n",
      " [  7.31292934e-03]\n",
      " [  5.23534780e-04]\n",
      " [  3.62313549e-02]\n",
      " [  2.75715768e-03]\n",
      " [  4.01992311e-02]\n",
      " [  1.97400626e-02]\n",
      " [  1.48869253e-02]\n",
      " [  1.05513623e-02]\n",
      " [  3.47181855e-02]\n",
      " [  5.23534780e-04]\n",
      " [  9.41789137e-04]\n",
      " [  5.23534780e-04]\n",
      " [  2.14197901e-04]\n",
      " [  4.87191505e-02]\n",
      " [  2.68365626e-04]\n",
      " [  3.32280580e-03]\n",
      " [  1.77439072e-03]\n",
      " [  6.23422407e-04]\n",
      " [  4.15251545e-03]\n",
      " [  2.96020714e-03]\n",
      " [ -1.14956924e-03]\n",
      " [  7.32747600e-02]\n",
      " [  1.11777544e-03]\n",
      " [  5.23534780e-04]\n",
      " [  1.96337673e-01]\n",
      " [  2.53794444e-04]\n",
      " [ -2.23514227e-03]\n",
      " [  2.20853898e-02]\n",
      " [  1.25521616e-03]\n",
      " [  1.95667102e-03]\n",
      " [  1.02008283e-02]\n",
      " [  7.61184382e-04]\n",
      " [  1.62728661e-02]\n",
      " [  1.45043416e-03]\n",
      " [  3.55832737e-04]\n",
      " [  3.57430143e-04]\n",
      " [ -3.73183742e-03]\n",
      " [  1.09969598e-01]\n",
      " [  5.73812097e-04]\n",
      " [  2.92257727e-02]\n",
      " [  3.42378020e-03]\n",
      " [  2.70604353e-02]\n",
      " [  2.65142152e-03]\n",
      " [  1.28007777e-01]\n",
      " [  4.21703969e-02]\n",
      " [  1.05842674e-02]\n",
      " [  8.57636200e-04]\n",
      " [  5.23534780e-04]\n",
      " [  1.11651148e-03]\n",
      " [  1.84274095e-04]\n",
      " [  1.31734195e-04]\n",
      " [  5.99953142e-04]\n",
      " [  1.74865382e-02]\n",
      " [  1.08843451e-02]\n",
      " [  5.23534780e-04]\n",
      " [  4.47426221e-04]\n",
      " [  7.03856925e-03]\n",
      " [  4.10402544e-01]\n",
      " [  4.79177265e-02]\n",
      " [  7.37151074e-02]\n",
      " [  5.39498661e-03]\n",
      " [  5.23534780e-04]\n",
      " [ -6.90459408e-03]\n",
      " [  3.51589379e-03]\n",
      " [  7.26792787e-04]\n",
      " [  7.40719847e-03]\n",
      " [  9.98227633e-03]\n",
      " [  1.77200817e-04]\n",
      " [  1.96114919e-02]\n",
      " [ -3.95334402e-04]\n",
      " [ -1.70991053e-03]\n",
      " [  6.85592970e-04]\n",
      " [  5.36625877e-04]\n",
      " [  3.29550117e-05]\n",
      " [  1.81391574e-01]\n",
      " [  1.48294348e-01]\n",
      " [  1.88008451e-01]\n",
      " [  2.05923005e-01]\n",
      " [  2.27420432e-01]\n",
      " [  2.15746166e-01]\n",
      " [  1.79742402e-01]\n",
      " [  2.05294672e-01]\n",
      " [  2.39058068e-01]\n",
      " [  2.21306377e-01]\n",
      " [  2.00888015e-01]\n",
      " [  2.34415601e-01]\n",
      " [  1.27584710e-01]\n",
      " [  1.17978935e-01]\n",
      " [  4.36656750e-04]\n",
      " [  0.00000000e+00]\n",
      " [  7.24945386e-04]\n",
      " [  7.42325994e-04]]\n"
     ]
    }
   ],
   "source": [
    "\n",
    "B_partc=sgd_ridge(X_all,y_all,0.231,0.000004,8)\n",
    "\n",
    "print('the learned coefficients fromp part c is:\\n',B_partc)"
   ]
  },
  {
   "cell_type": "code",
   "execution_count": null,
   "metadata": {
    "collapsed": true
   },
   "outputs": [],
   "source": []
  }
 ],
 "metadata": {
  "kernelspec": {
   "display_name": "Python 3",
   "language": "python",
   "name": "python3"
  },
  "language_info": {
   "codemirror_mode": {
    "name": "ipython",
    "version": 3
   },
   "file_extension": ".py",
   "mimetype": "text/x-python",
   "name": "python",
   "nbconvert_exporter": "python",
   "pygments_lexer": "ipython3",
   "version": "3.6.1"
  }
 },
 "nbformat": 4,
 "nbformat_minor": 2
}
